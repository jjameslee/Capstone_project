{
 "cells": [
  {
   "cell_type": "code",
   "execution_count": 34,
   "metadata": {},
   "outputs": [],
   "source": [
    "import pandas as pd\n",
    "import numpy as np\n",
    "import matplotlib.pyplot as plt\n",
    "import seaborn as sns\n",
    "import pickle\n",
    "\n",
    "from scipy import stats\n",
    "from sklearn.model_selection import train_test_split, GridSearchCV, cross_val_score\n",
    "from sklearn.linear_model import LinearRegression, LassoCV, RidgeCV\n",
    "from sklearn.preprocessing import StandardScaler\n",
    "from sklearn.pipeline import Pipeline\n",
    "from sklearn.metrics import r2_score, mean_squared_error\n",
    "\n",
    "%matplotlib inline"
   ]
  },
  {
   "cell_type": "code",
   "execution_count": 35,
   "metadata": {},
   "outputs": [
    {
     "name": "stderr",
     "output_type": "stream",
     "text": [
      "/Users/jameslee/anaconda3/lib/python3.6/site-packages/numpy/lib/arraysetops.py:569: FutureWarning: elementwise comparison failed; returning scalar instead, but in the future will perform elementwise comparison\n",
      "  mask |= (ar1 == a)\n"
     ]
    },
    {
     "name": "stdout",
     "output_type": "stream",
     "text": [
      "(2988007, 29)\n"
     ]
    },
    {
     "data": {
      "text/html": [
       "<div>\n",
       "<style scoped>\n",
       "    .dataframe tbody tr th:only-of-type {\n",
       "        vertical-align: middle;\n",
       "    }\n",
       "\n",
       "    .dataframe tbody tr th {\n",
       "        vertical-align: top;\n",
       "    }\n",
       "\n",
       "    .dataframe thead th {\n",
       "        text-align: right;\n",
       "    }\n",
       "</style>\n",
       "<table border=\"1\" class=\"dataframe\">\n",
       "  <thead>\n",
       "    <tr style=\"text-align: right;\">\n",
       "      <th></th>\n",
       "      <th>dispatch_sequence</th>\n",
       "      <th>dispatch_status</th>\n",
       "      <th>first_in_district</th>\n",
       "      <th>ppe_level</th>\n",
       "      <th>randomized_incident_number</th>\n",
       "      <th>unit_type</th>\n",
       "      <th>nc_name</th>\n",
       "      <th>total_pop</th>\n",
       "      <th>white_pop</th>\n",
       "      <th>black_pop</th>\n",
       "      <th>...</th>\n",
       "      <th>time_of_dispatch_secs</th>\n",
       "      <th>en_route_time_secs</th>\n",
       "      <th>on_scene_time_secs</th>\n",
       "      <th>call_process_time</th>\n",
       "      <th>turnout_time</th>\n",
       "      <th>travel_time</th>\n",
       "      <th>response_time</th>\n",
       "      <th>year</th>\n",
       "      <th>quarter</th>\n",
       "      <th>regions</th>\n",
       "    </tr>\n",
       "  </thead>\n",
       "  <tbody>\n",
       "    <tr>\n",
       "      <th>0</th>\n",
       "      <td>1</td>\n",
       "      <td>QTR</td>\n",
       "      <td>10</td>\n",
       "      <td>EMS</td>\n",
       "      <td>201301588315</td>\n",
       "      <td>RA - ALS RESCUE AMBULANCE</td>\n",
       "      <td>DOWNTOWN LOS ANGELES</td>\n",
       "      <td>40227.20</td>\n",
       "      <td>10689.28</td>\n",
       "      <td>6915.39</td>\n",
       "      <td>...</td>\n",
       "      <td>28941</td>\n",
       "      <td>29065</td>\n",
       "      <td>29310</td>\n",
       "      <td>77</td>\n",
       "      <td>124</td>\n",
       "      <td>245</td>\n",
       "      <td>369</td>\n",
       "      <td>2013</td>\n",
       "      <td>1</td>\n",
       "      <td>downtown</td>\n",
       "    </tr>\n",
       "    <tr>\n",
       "      <th>1</th>\n",
       "      <td>2</td>\n",
       "      <td>QTR</td>\n",
       "      <td>52</td>\n",
       "      <td>EMS</td>\n",
       "      <td>201301588315</td>\n",
       "      <td>E - ENGINE</td>\n",
       "      <td>HOLLYWOOD STUDIO DISTRICT NC</td>\n",
       "      <td>28142.56</td>\n",
       "      <td>5780.05</td>\n",
       "      <td>1291.89</td>\n",
       "      <td>...</td>\n",
       "      <td>28980</td>\n",
       "      <td>29070</td>\n",
       "      <td>29281</td>\n",
       "      <td>124</td>\n",
       "      <td>90</td>\n",
       "      <td>211</td>\n",
       "      <td>301</td>\n",
       "      <td>2013</td>\n",
       "      <td>1</td>\n",
       "      <td>hollywood</td>\n",
       "    </tr>\n",
       "    <tr>\n",
       "      <th>2</th>\n",
       "      <td>3</td>\n",
       "      <td>QTR</td>\n",
       "      <td>52</td>\n",
       "      <td>EMS</td>\n",
       "      <td>201301588315</td>\n",
       "      <td>RA - ALS RESCUE AMBULANCE</td>\n",
       "      <td>HOLLYWOOD STUDIO DISTRICT NC</td>\n",
       "      <td>28142.56</td>\n",
       "      <td>5780.05</td>\n",
       "      <td>1291.89</td>\n",
       "      <td>...</td>\n",
       "      <td>28980</td>\n",
       "      <td>29052</td>\n",
       "      <td>29309</td>\n",
       "      <td>124</td>\n",
       "      <td>72</td>\n",
       "      <td>257</td>\n",
       "      <td>329</td>\n",
       "      <td>2013</td>\n",
       "      <td>1</td>\n",
       "      <td>hollywood</td>\n",
       "    </tr>\n",
       "    <tr>\n",
       "      <th>3</th>\n",
       "      <td>1</td>\n",
       "      <td>QTR</td>\n",
       "      <td>29</td>\n",
       "      <td>EMS</td>\n",
       "      <td>201301588316</td>\n",
       "      <td>RA - ALS RESCUE AMBULANCE</td>\n",
       "      <td>GREATER WILSHIRE NC</td>\n",
       "      <td>50090.79</td>\n",
       "      <td>17032.14</td>\n",
       "      <td>2313.59</td>\n",
       "      <td>...</td>\n",
       "      <td>28978</td>\n",
       "      <td>29051</td>\n",
       "      <td>29331</td>\n",
       "      <td>78</td>\n",
       "      <td>73</td>\n",
       "      <td>280</td>\n",
       "      <td>353</td>\n",
       "      <td>2013</td>\n",
       "      <td>1</td>\n",
       "      <td>central</td>\n",
       "    </tr>\n",
       "    <tr>\n",
       "      <th>4</th>\n",
       "      <td>2</td>\n",
       "      <td>QTR</td>\n",
       "      <td>29</td>\n",
       "      <td>EMS</td>\n",
       "      <td>201301588316</td>\n",
       "      <td>RA8XX - BLS RESCUE AMBULANCE</td>\n",
       "      <td>GREATER WILSHIRE NC</td>\n",
       "      <td>50090.79</td>\n",
       "      <td>17032.14</td>\n",
       "      <td>2313.59</td>\n",
       "      <td>...</td>\n",
       "      <td>28978</td>\n",
       "      <td>29068</td>\n",
       "      <td>29973</td>\n",
       "      <td>78</td>\n",
       "      <td>90</td>\n",
       "      <td>905</td>\n",
       "      <td>995</td>\n",
       "      <td>2013</td>\n",
       "      <td>1</td>\n",
       "      <td>central</td>\n",
       "    </tr>\n",
       "  </tbody>\n",
       "</table>\n",
       "<p>5 rows × 29 columns</p>\n",
       "</div>"
      ],
      "text/plain": [
       "   dispatch_sequence dispatch_status  first_in_district ppe_level  \\\n",
       "0                  1             QTR                 10       EMS   \n",
       "1                  2             QTR                 52       EMS   \n",
       "2                  3             QTR                 52       EMS   \n",
       "3                  1             QTR                 29       EMS   \n",
       "4                  2             QTR                 29       EMS   \n",
       "\n",
       "   randomized_incident_number                     unit_type  \\\n",
       "0                201301588315     RA - ALS RESCUE AMBULANCE   \n",
       "1                201301588315                    E - ENGINE   \n",
       "2                201301588315     RA - ALS RESCUE AMBULANCE   \n",
       "3                201301588316     RA - ALS RESCUE AMBULANCE   \n",
       "4                201301588316  RA8XX - BLS RESCUE AMBULANCE   \n",
       "\n",
       "                        nc_name  total_pop  white_pop  black_pop  ...  \\\n",
       "0          DOWNTOWN LOS ANGELES   40227.20   10689.28    6915.39  ...   \n",
       "1  HOLLYWOOD STUDIO DISTRICT NC   28142.56    5780.05    1291.89  ...   \n",
       "2  HOLLYWOOD STUDIO DISTRICT NC   28142.56    5780.05    1291.89  ...   \n",
       "3           GREATER WILSHIRE NC   50090.79   17032.14    2313.59  ...   \n",
       "4           GREATER WILSHIRE NC   50090.79   17032.14    2313.59  ...   \n",
       "\n",
       "   time_of_dispatch_secs  en_route_time_secs  on_scene_time_secs  \\\n",
       "0                  28941               29065               29310   \n",
       "1                  28980               29070               29281   \n",
       "2                  28980               29052               29309   \n",
       "3                  28978               29051               29331   \n",
       "4                  28978               29068               29973   \n",
       "\n",
       "   call_process_time  turnout_time  travel_time  response_time  year  quarter  \\\n",
       "0                 77           124          245            369  2013        1   \n",
       "1                124            90          211            301  2013        1   \n",
       "2                124            72          257            329  2013        1   \n",
       "3                 78            73          280            353  2013        1   \n",
       "4                 78            90          905            995  2013        1   \n",
       "\n",
       "     regions  \n",
       "0   downtown  \n",
       "1  hollywood  \n",
       "2  hollywood  \n",
       "3    central  \n",
       "4    central  \n",
       "\n",
       "[5 rows x 29 columns]"
      ]
     },
     "execution_count": 35,
     "metadata": {},
     "output_type": "execute_result"
    }
   ],
   "source": [
    "lafd = pd.read_csv('./data/new_lafd_census_raw_metrics.csv', index_col=0)\n",
    "print(lafd.shape)\n",
    "lafd.head()"
   ]
  },
  {
   "cell_type": "code",
   "execution_count": 36,
   "metadata": {},
   "outputs": [
    {
     "data": {
      "text/plain": [
       "Index(['dispatch_sequence', 'dispatch_status', 'first_in_district',\n",
       "       'ppe_level', 'randomized_incident_number', 'unit_type', 'nc_name',\n",
       "       'total_pop', 'white_pop', 'black_pop', 'ameri_es_pop', 'asian_pop',\n",
       "       'hawn_pi_pop', 'other_pop', 'multi_pop', 'in_poverty', 'owner_occ',\n",
       "       'renter_occ', 'incident_creation_time_secs', 'time_of_dispatch_secs',\n",
       "       'en_route_time_secs', 'on_scene_time_secs', 'call_process_time',\n",
       "       'turnout_time', 'travel_time', 'response_time', 'year', 'quarter',\n",
       "       'regions'],\n",
       "      dtype='object')"
      ]
     },
     "execution_count": 36,
     "metadata": {},
     "output_type": "execute_result"
    }
   ],
   "source": [
    "lafd.columns"
   ]
  },
  {
   "cell_type": "code",
   "execution_count": 37,
   "metadata": {},
   "outputs": [
    {
     "data": {
      "text/plain": [
       "(2988007, 29)"
      ]
     },
     "execution_count": 37,
     "metadata": {},
     "output_type": "execute_result"
    }
   ],
   "source": [
    "lafd.shape"
   ]
  },
  {
   "cell_type": "code",
   "execution_count": 38,
   "metadata": {},
   "outputs": [],
   "source": [
    "lafd['year'] =lafd['year'].astype('str')\n",
    "\n",
    "lafd.drop(columns=['dispatch_sequence', 'randomized_incident_number',\n",
    "                   'incident_creation_time_secs', 'time_of_dispatch_secs', \n",
    "                   'en_route_time_secs', 'on_scene_time_secs',\n",
    "                   'travel_time'], inplace=True)\n",
    "\n",
    "\n",
    "lafd.drop(lafd[lafd['year'] == '2013'].index, 0, inplace=True)\n",
    "lafd.drop(lafd[lafd['year'] == '2014'].index, 0, inplace=True)\n",
    "lafd.drop(lafd[lafd['year'] == '2015'].index, 0, inplace=True)\n",
    "\n",
    "lafd['year'] = lafd['year'].astype('int')\n",
    "lafd['quarter'] = lafd['quarter'].astype('str')"
   ]
  },
  {
   "cell_type": "code",
   "execution_count": 39,
   "metadata": {},
   "outputs": [
    {
     "data": {
      "text/plain": [
       "(1255785, 22)"
      ]
     },
     "execution_count": 39,
     "metadata": {},
     "output_type": "execute_result"
    }
   ],
   "source": [
    "lafd.shape"
   ]
  },
  {
   "cell_type": "code",
   "execution_count": 40,
   "metadata": {},
   "outputs": [
    {
     "data": {
      "text/plain": [
       "0"
      ]
     },
     "execution_count": 40,
     "metadata": {},
     "output_type": "execute_result"
    }
   ],
   "source": [
    "lafd.isnull().sum().sum()"
   ]
  },
  {
   "cell_type": "code",
   "execution_count": 41,
   "metadata": {},
   "outputs": [
    {
     "data": {
      "text/plain": [
       "dispatch_status       object\n",
       "first_in_district      int64\n",
       "ppe_level             object\n",
       "unit_type             object\n",
       "nc_name               object\n",
       "total_pop            float64\n",
       "white_pop            float64\n",
       "black_pop            float64\n",
       "ameri_es_pop         float64\n",
       "asian_pop            float64\n",
       "hawn_pi_pop          float64\n",
       "other_pop            float64\n",
       "multi_pop            float64\n",
       "in_poverty           float64\n",
       "owner_occ            float64\n",
       "renter_occ           float64\n",
       "call_process_time      int64\n",
       "turnout_time           int64\n",
       "response_time          int64\n",
       "year                   int64\n",
       "quarter               object\n",
       "regions               object\n",
       "dtype: object"
      ]
     },
     "execution_count": 41,
     "metadata": {},
     "output_type": "execute_result"
    }
   ],
   "source": [
    "lafd.dtypes"
   ]
  },
  {
   "cell_type": "code",
   "execution_count": 42,
   "metadata": {},
   "outputs": [],
   "source": [
    "def population_perc(df, column, pop):\n",
    "    return (df[column]/ df[pop]) * 100"
   ]
  },
  {
   "cell_type": "code",
   "execution_count": 43,
   "metadata": {},
   "outputs": [],
   "source": [
    "lafd['white_perc'] = population_perc(lafd, 'white_pop', 'total_pop')\n",
    "lafd['black_perc'] = population_perc(lafd, 'black_pop', 'total_pop')\n",
    "lafd['ameri_es_perc'] = population_perc(lafd, 'ameri_es_pop', 'total_pop')\n",
    "lafd['asian_perc'] = population_perc(lafd, 'asian_pop', 'total_pop')\n",
    "lafd['hawn_pi_perc'] = population_perc(lafd, 'hawn_pi_pop', 'total_pop')\n",
    "lafd['other_perc'] = population_perc(lafd, 'other_pop', 'total_pop')\n",
    "lafd['multi_perc'] = population_perc(lafd, 'multi_pop', 'total_pop')\n",
    "lafd['poverty_perc'] = population_perc(lafd, 'in_poverty', 'total_pop')\n",
    "lafd['owner_occ_perc'] = population_perc(lafd, 'owner_occ', 'total_pop')\n",
    "lafd['renter_occ_perc'] = population_perc(lafd, 'renter_occ', 'total_pop')\n",
    "\n",
    "lafd.drop(columns=['white_pop', 'black_pop', 'ameri_es_pop', 'asian_pop', 'hawn_pi_pop', 'other_pop',\n",
    "                  'multi_pop', 'in_poverty', 'owner_occ', 'renter_occ'], inplace=True)"
   ]
  },
  {
   "cell_type": "code",
   "execution_count": 44,
   "metadata": {},
   "outputs": [
    {
     "data": {
      "text/html": [
       "<div>\n",
       "<style scoped>\n",
       "    .dataframe tbody tr th:only-of-type {\n",
       "        vertical-align: middle;\n",
       "    }\n",
       "\n",
       "    .dataframe tbody tr th {\n",
       "        vertical-align: top;\n",
       "    }\n",
       "\n",
       "    .dataframe thead th {\n",
       "        text-align: right;\n",
       "    }\n",
       "</style>\n",
       "<table border=\"1\" class=\"dataframe\">\n",
       "  <thead>\n",
       "    <tr style=\"text-align: right;\">\n",
       "      <th></th>\n",
       "      <th>dispatch_status</th>\n",
       "      <th>first_in_district</th>\n",
       "      <th>ppe_level</th>\n",
       "      <th>unit_type</th>\n",
       "      <th>nc_name</th>\n",
       "      <th>total_pop</th>\n",
       "      <th>call_process_time</th>\n",
       "      <th>turnout_time</th>\n",
       "      <th>response_time</th>\n",
       "      <th>year</th>\n",
       "      <th>...</th>\n",
       "      <th>white_perc</th>\n",
       "      <th>black_perc</th>\n",
       "      <th>ameri_es_perc</th>\n",
       "      <th>asian_perc</th>\n",
       "      <th>hawn_pi_perc</th>\n",
       "      <th>other_perc</th>\n",
       "      <th>multi_perc</th>\n",
       "      <th>poverty_perc</th>\n",
       "      <th>owner_occ_perc</th>\n",
       "      <th>renter_occ_perc</th>\n",
       "    </tr>\n",
       "  </thead>\n",
       "  <tbody>\n",
       "    <tr>\n",
       "      <th>1747427</th>\n",
       "      <td>QTR</td>\n",
       "      <td>103</td>\n",
       "      <td>EMS</td>\n",
       "      <td>E - ENGINE</td>\n",
       "      <td>NORTHRIDGE SOUTH NC</td>\n",
       "      <td>32525.30</td>\n",
       "      <td>41</td>\n",
       "      <td>67</td>\n",
       "      <td>383</td>\n",
       "      <td>2016</td>\n",
       "      <td>...</td>\n",
       "      <td>34.738773</td>\n",
       "      <td>5.923912</td>\n",
       "      <td>0.016664</td>\n",
       "      <td>12.445881</td>\n",
       "      <td>0.238491</td>\n",
       "      <td>0.272588</td>\n",
       "      <td>2.194630</td>\n",
       "      <td>99.670687</td>\n",
       "      <td>16.278190</td>\n",
       "      <td>16.200435</td>\n",
       "    </tr>\n",
       "    <tr>\n",
       "      <th>1747428</th>\n",
       "      <td>QTR</td>\n",
       "      <td>103</td>\n",
       "      <td>EMS</td>\n",
       "      <td>RA - ALS RESCUE AMBULANCE</td>\n",
       "      <td>NORTHRIDGE SOUTH NC</td>\n",
       "      <td>32525.30</td>\n",
       "      <td>41</td>\n",
       "      <td>66</td>\n",
       "      <td>391</td>\n",
       "      <td>2016</td>\n",
       "      <td>...</td>\n",
       "      <td>34.738773</td>\n",
       "      <td>5.923912</td>\n",
       "      <td>0.016664</td>\n",
       "      <td>12.445881</td>\n",
       "      <td>0.238491</td>\n",
       "      <td>0.272588</td>\n",
       "      <td>2.194630</td>\n",
       "      <td>99.670687</td>\n",
       "      <td>16.278190</td>\n",
       "      <td>16.200435</td>\n",
       "    </tr>\n",
       "    <tr>\n",
       "      <th>1747429</th>\n",
       "      <td>QTR</td>\n",
       "      <td>7</td>\n",
       "      <td>EMS</td>\n",
       "      <td>E - ENGINE</td>\n",
       "      <td>ARLETA NC</td>\n",
       "      <td>34932.84</td>\n",
       "      <td>40</td>\n",
       "      <td>48</td>\n",
       "      <td>407</td>\n",
       "      <td>2016</td>\n",
       "      <td>...</td>\n",
       "      <td>8.252034</td>\n",
       "      <td>1.172736</td>\n",
       "      <td>0.193629</td>\n",
       "      <td>11.626052</td>\n",
       "      <td>0.100078</td>\n",
       "      <td>0.107578</td>\n",
       "      <td>0.701489</td>\n",
       "      <td>99.335067</td>\n",
       "      <td>16.002907</td>\n",
       "      <td>6.183122</td>\n",
       "    </tr>\n",
       "    <tr>\n",
       "      <th>1747430</th>\n",
       "      <td>QTR</td>\n",
       "      <td>7</td>\n",
       "      <td>EMS</td>\n",
       "      <td>RA8XX - BLS RESCUE AMBULANCE</td>\n",
       "      <td>ARLETA NC</td>\n",
       "      <td>34932.84</td>\n",
       "      <td>40</td>\n",
       "      <td>84</td>\n",
       "      <td>461</td>\n",
       "      <td>2016</td>\n",
       "      <td>...</td>\n",
       "      <td>8.252034</td>\n",
       "      <td>1.172736</td>\n",
       "      <td>0.193629</td>\n",
       "      <td>11.626052</td>\n",
       "      <td>0.100078</td>\n",
       "      <td>0.107578</td>\n",
       "      <td>0.701489</td>\n",
       "      <td>99.335067</td>\n",
       "      <td>16.002907</td>\n",
       "      <td>6.183122</td>\n",
       "    </tr>\n",
       "    <tr>\n",
       "      <th>1747431</th>\n",
       "      <td>QTR</td>\n",
       "      <td>26</td>\n",
       "      <td>EMS</td>\n",
       "      <td>E - ENGINE</td>\n",
       "      <td>UNITED NEIGHBORHOODS OF THE HISTORIC ARLINGTON...</td>\n",
       "      <td>52784.01</td>\n",
       "      <td>101</td>\n",
       "      <td>107</td>\n",
       "      <td>272</td>\n",
       "      <td>2016</td>\n",
       "      <td>...</td>\n",
       "      <td>5.631099</td>\n",
       "      <td>26.304008</td>\n",
       "      <td>0.056911</td>\n",
       "      <td>7.036260</td>\n",
       "      <td>0.000000</td>\n",
       "      <td>0.788534</td>\n",
       "      <td>1.568316</td>\n",
       "      <td>98.335462</td>\n",
       "      <td>7.752708</td>\n",
       "      <td>23.813253</td>\n",
       "    </tr>\n",
       "  </tbody>\n",
       "</table>\n",
       "<p>5 rows × 22 columns</p>\n",
       "</div>"
      ],
      "text/plain": [
       "        dispatch_status  first_in_district ppe_level  \\\n",
       "1747427             QTR                103       EMS   \n",
       "1747428             QTR                103       EMS   \n",
       "1747429             QTR                  7       EMS   \n",
       "1747430             QTR                  7       EMS   \n",
       "1747431             QTR                 26       EMS   \n",
       "\n",
       "                            unit_type  \\\n",
       "1747427                    E - ENGINE   \n",
       "1747428     RA - ALS RESCUE AMBULANCE   \n",
       "1747429                    E - ENGINE   \n",
       "1747430  RA8XX - BLS RESCUE AMBULANCE   \n",
       "1747431                    E - ENGINE   \n",
       "\n",
       "                                                   nc_name  total_pop  \\\n",
       "1747427                                NORTHRIDGE SOUTH NC   32525.30   \n",
       "1747428                                NORTHRIDGE SOUTH NC   32525.30   \n",
       "1747429                                          ARLETA NC   34932.84   \n",
       "1747430                                          ARLETA NC   34932.84   \n",
       "1747431  UNITED NEIGHBORHOODS OF THE HISTORIC ARLINGTON...   52784.01   \n",
       "\n",
       "         call_process_time  turnout_time  response_time  year  ... white_perc  \\\n",
       "1747427                 41            67            383  2016  ...  34.738773   \n",
       "1747428                 41            66            391  2016  ...  34.738773   \n",
       "1747429                 40            48            407  2016  ...   8.252034   \n",
       "1747430                 40            84            461  2016  ...   8.252034   \n",
       "1747431                101           107            272  2016  ...   5.631099   \n",
       "\n",
       "        black_perc  ameri_es_perc  asian_perc  hawn_pi_perc  other_perc  \\\n",
       "1747427   5.923912       0.016664   12.445881      0.238491    0.272588   \n",
       "1747428   5.923912       0.016664   12.445881      0.238491    0.272588   \n",
       "1747429   1.172736       0.193629   11.626052      0.100078    0.107578   \n",
       "1747430   1.172736       0.193629   11.626052      0.100078    0.107578   \n",
       "1747431  26.304008       0.056911    7.036260      0.000000    0.788534   \n",
       "\n",
       "         multi_perc  poverty_perc  owner_occ_perc  renter_occ_perc  \n",
       "1747427    2.194630     99.670687       16.278190        16.200435  \n",
       "1747428    2.194630     99.670687       16.278190        16.200435  \n",
       "1747429    0.701489     99.335067       16.002907         6.183122  \n",
       "1747430    0.701489     99.335067       16.002907         6.183122  \n",
       "1747431    1.568316     98.335462        7.752708        23.813253  \n",
       "\n",
       "[5 rows x 22 columns]"
      ]
     },
     "execution_count": 44,
     "metadata": {},
     "output_type": "execute_result"
    }
   ],
   "source": [
    "lafd.head()"
   ]
  },
  {
   "cell_type": "code",
   "execution_count": 45,
   "metadata": {},
   "outputs": [
    {
     "data": {
      "text/plain": [
       "Index(['dispatch_status', 'ppe_level', 'unit_type', 'nc_name', 'quarter',\n",
       "       'regions'],\n",
       "      dtype='object')"
      ]
     },
     "execution_count": 45,
     "metadata": {},
     "output_type": "execute_result"
    }
   ],
   "source": [
    "categorical_cols = lafd.select_dtypes(include=['object'])\n",
    "categorical_cols.columns"
   ]
  },
  {
   "cell_type": "markdown",
   "metadata": {},
   "source": [
    "### Creating dummy variables for categorical features\n"
   ]
  },
  {
   "cell_type": "code",
   "execution_count": 46,
   "metadata": {},
   "outputs": [],
   "source": [
    "lafd_dummies = pd.get_dummies(lafd, drop_first=True)"
   ]
  },
  {
   "cell_type": "code",
   "execution_count": 47,
   "metadata": {},
   "outputs": [
    {
     "data": {
      "text/plain": [
       "(1255785, 107)"
      ]
     },
     "execution_count": 47,
     "metadata": {},
     "output_type": "execute_result"
    }
   ],
   "source": [
    "lafd_dummies.shape"
   ]
  },
  {
   "cell_type": "markdown",
   "metadata": {},
   "source": [
    "For whatever reason, there seems to be huge outliers. There are 7 instances where the time that the LAFD respondants arrived on the scene from the time the respondents dispatched is over 11 hours long! \n",
    "\n",
    "Seeing how all the top 5 instances are in different time-frames and in different locations, we will act as if this was an error on their part. As a result we will remove any observations with a response time that goes over 1 hour (3,600 seconds). \n",
    "We will also remove any observations where the response time is lower than 1 minute (60 seconds)."
   ]
  },
  {
   "cell_type": "code",
   "execution_count": 48,
   "metadata": {},
   "outputs": [
    {
     "data": {
      "text/plain": [
       "1925441    45959\n",
       "2202396    40162\n",
       "2202399    40162\n",
       "2202398    40162\n",
       "2202397    40162\n",
       "Name: response_time, dtype: int64"
      ]
     },
     "execution_count": 48,
     "metadata": {},
     "output_type": "execute_result"
    }
   ],
   "source": [
    "lafd_dummies['response_time'].sort_values(ascending=False).head()"
   ]
  },
  {
   "cell_type": "code",
   "execution_count": 49,
   "metadata": {},
   "outputs": [
    {
     "data": {
      "text/plain": [
       "dispatch_status             QTR\n",
       "first_in_district            98\n",
       "ppe_level               Non-EMS\n",
       "unit_type            E - ENGINE\n",
       "nc_name              PACOIMA NC\n",
       "total_pop                 69476\n",
       "call_process_time            78\n",
       "turnout_time                 25\n",
       "response_time             45959\n",
       "year                       2016\n",
       "quarter                       2\n",
       "regions               sf_valley\n",
       "white_perc              2.24754\n",
       "black_perc              4.75792\n",
       "ameri_es_perc         0.0284991\n",
       "asian_perc              1.75091\n",
       "hawn_pi_perc          0.0193448\n",
       "other_perc             0.105346\n",
       "multi_perc             0.273058\n",
       "poverty_perc            99.1251\n",
       "owner_occ_perc          11.1089\n",
       "renter_occ_perc         10.3766\n",
       "Name: 1925441, dtype: object"
      ]
     },
     "execution_count": 49,
     "metadata": {},
     "output_type": "execute_result"
    }
   ],
   "source": [
    "lafd.loc[1925441]"
   ]
  },
  {
   "cell_type": "code",
   "execution_count": 50,
   "metadata": {},
   "outputs": [],
   "source": [
    "lafd_dummies.drop(lafd_dummies[lafd_dummies['response_time'] < 60].index,0,inplace=True)\n",
    "lafd_dummies.drop(lafd_dummies[lafd_dummies['response_time'] > 3600].index,0,inplace=True)"
   ]
  },
  {
   "cell_type": "code",
   "execution_count": 51,
   "metadata": {},
   "outputs": [],
   "source": [
    "lafd_dummies['y_hat'] = lafd_dummies['response_time'].mean()"
   ]
  },
  {
   "cell_type": "code",
   "execution_count": 52,
   "metadata": {},
   "outputs": [
    {
     "name": "stdout",
     "output_type": "stream",
     "text": [
      "373.1350614200295\n"
     ]
    }
   ],
   "source": [
    "print(lafd_dummies['response_time'].mean())"
   ]
  },
  {
   "cell_type": "code",
   "execution_count": 53,
   "metadata": {},
   "outputs": [
    {
     "name": "stdout",
     "output_type": "stream",
     "text": [
      "Root Mean Squared Error: 221.671 nR2: 0.0\n"
     ]
    }
   ],
   "source": [
    "def model_score(y_true,y_hat):\n",
    "    \n",
    "    RMSE = round(mean_squared_error(y_true , y_hat)**0.5, 3)\n",
    "    R2 = round(r2_score(y_true,y_hat),3)\n",
    "    \n",
    "    print(f'Root Mean Squared Error: {RMSE} nR2: {R2}')\n",
    "\n",
    "model_score(lafd_dummies['response_time'], lafd_dummies['y_hat'])"
   ]
  },
  {
   "cell_type": "code",
   "execution_count": 54,
   "metadata": {},
   "outputs": [],
   "source": [
    "lafd_dummies.drop('y_hat',1,inplace=True)"
   ]
  },
  {
   "cell_type": "markdown",
   "metadata": {},
   "source": [
    "All models will be scored according to the two metrics above. RMSE and R2 scores the model performance by examining the magnitiude of the model's residual errors (the difference between the actual response time to the mean response time. \n",
    "\n",
    "**Root Mean Squared Error:** RMSE is 233.9, which is quite large given our dataset. This metric represents the average distance from the actual response time to the predicted response time (mean). We need to minimize this score in order to have an accurate model.\n",
    "\n",
    "**R2 score:** The baseline model does not explain any of the target data's variability around its' mean. The predictions are inaccurate. The goal is to increase the R2 score as close to 1 (100%) as possible so that the variability in the data can be explained by the model."
   ]
  },
  {
   "cell_type": "code",
   "execution_count": 55,
   "metadata": {},
   "outputs": [],
   "source": [
    "lafd_dummies.to_csv('./data/lafd_dummies.csv')"
   ]
  },
  {
   "cell_type": "code",
   "execution_count": 56,
   "metadata": {},
   "outputs": [],
   "source": [
    "lafd_dummies['logy'] = lafd_dummies['response_time'].apply(np.log)"
   ]
  },
  {
   "cell_type": "code",
   "execution_count": 57,
   "metadata": {},
   "outputs": [
    {
     "name": "stderr",
     "output_type": "stream",
     "text": [
      "/Users/jameslee/anaconda3/lib/python3.6/site-packages/sklearn/preprocessing/data.py:645: DataConversionWarning: Data with input dtype uint8, int64, float64 were all converted to float64 by StandardScaler.\n",
      "  return self.partial_fit(X, y)\n",
      "/Users/jameslee/anaconda3/lib/python3.6/site-packages/sklearn/base.py:464: DataConversionWarning: Data with input dtype uint8, int64, float64 were all converted to float64 by StandardScaler.\n",
      "  return self.fit(X, **fit_params).transform(X)\n",
      "/Users/jameslee/anaconda3/lib/python3.6/site-packages/ipykernel_launcher.py:12: DataConversionWarning: Data with input dtype uint8, int64, float64 were all converted to float64 by StandardScaler.\n",
      "  if sys.path[0] == '':\n"
     ]
    }
   ],
   "source": [
    "X = lafd_dummies.drop(columns=['response_time', 'logy'])\n",
    "y = lafd_dummies['logy']\n",
    "\n",
    "X_train, X_test, y_train, y_test = train_test_split(X,\n",
    "                                                    y, \n",
    "                                                    random_state= 42, \n",
    "                                                    test_size = 0.3);\n",
    "\n",
    "\n",
    "ss = StandardScaler()\n",
    "X_train_sc = ss.fit_transform(X_train)\n",
    "X_test_sc = ss.transform(X_test)"
   ]
  },
  {
   "cell_type": "code",
   "execution_count": 58,
   "metadata": {},
   "outputs": [
    {
     "name": "stdout",
     "output_type": "stream",
     "text": [
      "Train R2 Score: 0.16100812885771\n",
      "Test R2 Score: 0.15931963671763205\n"
     ]
    }
   ],
   "source": [
    "lr = LinearRegression()\n",
    "lr.fit(X_train_sc, y_train)\n",
    "\n",
    "\n",
    "R2_train = lr.score(X_train_sc, y_train)\n",
    "R2_test = lr.score(X_test_sc, y_test)\n",
    "   \n",
    "y_hat = lr.predict(X_test_sc)\n",
    "\n",
    "print(f'Train R2 Score: {R2_train}')\n",
    "print(f'Test R2 Score: {R2_test}')"
   ]
  },
  {
   "cell_type": "code",
   "execution_count": 59,
   "metadata": {},
   "outputs": [
    {
     "data": {
      "text/html": [
       "<div>\n",
       "<style scoped>\n",
       "    .dataframe tbody tr th:only-of-type {\n",
       "        vertical-align: middle;\n",
       "    }\n",
       "\n",
       "    .dataframe tbody tr th {\n",
       "        vertical-align: top;\n",
       "    }\n",
       "\n",
       "    .dataframe thead th {\n",
       "        text-align: right;\n",
       "    }\n",
       "</style>\n",
       "<table border=\"1\" class=\"dataframe\">\n",
       "  <thead>\n",
       "    <tr style=\"text-align: right;\">\n",
       "      <th></th>\n",
       "      <th>estimated_Coefs</th>\n",
       "    </tr>\n",
       "  </thead>\n",
       "  <tbody>\n",
       "    <tr>\n",
       "      <th>first_in_district</th>\n",
       "      <td>3.050013e-03</td>\n",
       "    </tr>\n",
       "    <tr>\n",
       "      <th>total_pop</th>\n",
       "      <td>1.306287e+11</td>\n",
       "    </tr>\n",
       "    <tr>\n",
       "      <th>call_process_time</th>\n",
       "      <td>2.827221e-02</td>\n",
       "    </tr>\n",
       "    <tr>\n",
       "      <th>turnout_time</th>\n",
       "      <td>9.624688e-02</td>\n",
       "    </tr>\n",
       "    <tr>\n",
       "      <th>year</th>\n",
       "      <td>2.440997e-02</td>\n",
       "    </tr>\n",
       "    <tr>\n",
       "      <th>white_perc</th>\n",
       "      <td>-8.629987e+10</td>\n",
       "    </tr>\n",
       "    <tr>\n",
       "      <th>black_perc</th>\n",
       "      <td>2.478130e+11</td>\n",
       "    </tr>\n",
       "    <tr>\n",
       "      <th>ameri_es_perc</th>\n",
       "      <td>7.793821e+10</td>\n",
       "    </tr>\n",
       "    <tr>\n",
       "      <th>asian_perc</th>\n",
       "      <td>5.426175e+11</td>\n",
       "    </tr>\n",
       "    <tr>\n",
       "      <th>hawn_pi_perc</th>\n",
       "      <td>-1.257267e+11</td>\n",
       "    </tr>\n",
       "  </tbody>\n",
       "</table>\n",
       "</div>"
      ],
      "text/plain": [
       "                   estimated_Coefs\n",
       "first_in_district     3.050013e-03\n",
       "total_pop             1.306287e+11\n",
       "call_process_time     2.827221e-02\n",
       "turnout_time          9.624688e-02\n",
       "year                  2.440997e-02\n",
       "white_perc           -8.629987e+10\n",
       "black_perc            2.478130e+11\n",
       "ameri_es_perc         7.793821e+10\n",
       "asian_perc            5.426175e+11\n",
       "hawn_pi_perc         -1.257267e+11"
      ]
     },
     "execution_count": 59,
     "metadata": {},
     "output_type": "execute_result"
    }
   ],
   "source": [
    "pd.DataFrame(lr.coef_, index = X.columns, columns = ['estimated_Coefs']).head(10)"
   ]
  },
  {
   "cell_type": "code",
   "execution_count": 60,
   "metadata": {},
   "outputs": [],
   "source": [
    "betas_lr_sc = pd.DataFrame(lr.coef_, X.columns)\n",
    "\n",
    "betas_lr_sc.columns = ['weights']\n",
    "\n",
    "betas_lr_sc['abs_weights'] = betas_lr_sc.weights.abs()\n",
    "\n",
    "betas_0_lr_sc = lr.intercept_\n",
    "\n",
    "weights_lr_sc = betas_lr_sc.sort_values('abs_weights', ascending=False)['weights'].head(10)\n",
    "\n",
    "labels_lr_sc = weights_lr_sc.index"
   ]
  },
  {
   "cell_type": "code",
   "execution_count": 61,
   "metadata": {},
   "outputs": [
    {
     "data": {
      "image/png": "[encoded data removed]",
      "text/plain": [
       "<Figure size 1440x720 with 1 Axes>"
      ]
     },
     "metadata": {
      "needs_background": "light"
     },
     "output_type": "display_data"
    }
   ],
   "source": [
    "plt.figure(figsize=(20,10))\n",
    "plt.barh(labels_lr_sc, weights_lr_sc)\n",
    "plt.yticks(fontsize=20)\n",
    "plt.xticks(fontsize=20)\n",
    "plt.xlabel('Weights', fontsize=30)\n",
    "plt.title(f'Most Important Features and Weights\\ny intercept: ${betas_0_lr_sc:0.02f}', fontsize=42)  \n",
    "#0.02 is telling me i want 2 float decimal format\n",
    "plt.tight_layout()"
   ]
  },
  {
   "cell_type": "code",
   "execution_count": 62,
   "metadata": {},
   "outputs": [
    {
     "data": {
      "image/png": "[encoded data removed]",
      "text/plain": [
       "<Figure size 1080x504 with 1 Axes>"
      ]
     },
     "metadata": {
      "needs_background": "light"
     },
     "output_type": "display_data"
    }
   ],
   "source": [
    "\n",
    "fig = plt.figure(figsize=(15, 7))\n",
    "\n",
    "#Plot actual vs. predicted on response time\n",
    "\n",
    "plt.scatter(y_test, y_hat);\n",
    "# plt.xlim([0,50]);\n",
    "# plt.ylim([0,50]);\n",
    "plt.xlabel('Actual response time', fontsize = 12);\n",
    "plt.ylabel('Predicted response time', fontsize = 12);\n",
    "plt.title('Actual vs. predicted response time', fontsize = 14, fontweight = 'bold');"
   ]
  },
  {
   "cell_type": "code",
   "execution_count": 251,
   "metadata": {},
   "outputs": [
    {
     "name": "stdout",
     "output_type": "stream",
     "text": [
      "Train R2 Score: 0.122785794956501\n",
      "Test R2 Score: 0.12188903307413912\n"
     ]
    }
   ],
   "source": [
    "r_alphas = np.logspace(0, 5, 100)\n",
    "ridge_cv = RidgeCV(alphas = r_alphas, cv = 3)\n",
    "ridge_cv.fit(X_train_sc, y_train)\n",
    "   \n",
    "R2_train = ridge_cv.score(X_train_sc, y_train)\n",
    "R2_test = ridge_cv.score(X_test_sc, y_test)\n",
    "\n",
    "print(f'Train R2 Score: {R2_train}')\n",
    "print(f'Test R2 Score: {R2_test}')"
   ]
  },
  {
   "cell_type": "code",
   "execution_count": 64,
   "metadata": {},
   "outputs": [
    {
     "name": "stdout",
     "output_type": "stream",
     "text": [
      "Train R2 Score: 0.16104012450340932\n",
      "Test R2 Score: 0.15934456046791368\n"
     ]
    }
   ],
   "source": [
    "lasso_cv = LassoCV(cv = 5)\n",
    "lasso_cv.fit(X_train_sc, y_train)\n",
    "   \n",
    "R2_train = lasso_cv.score(X_train_sc, y_train)\n",
    "R2_test = lasso_cv.score(X_test_sc, y_test)\n",
    "   \n",
    "y_hat_lasso = lasso_cv.predict(X_test_sc)\n",
    "\n",
    "print(f'Train R2 Score: {R2_train}')\n",
    "print(f'Test R2 Score: {R2_test}')\n",
    "\n"
   ]
  }
 ],
 "metadata": {
  "kernelspec": {
   "display_name": "Python 3",
   "language": "python",
   "name": "python3"
  },
  "language_info": {
   "codemirror_mode": {
    "name": "ipython",
    "version": 3
   },
   "file_extension": ".py",
   "mimetype": "text/x-python",
   "name": "python",
   "nbconvert_exporter": "python",
   "pygments_lexer": "ipython3",
   "version": "3.6.8"
  }
 },
 "nbformat": 4,
 "nbformat_minor": 2
}
