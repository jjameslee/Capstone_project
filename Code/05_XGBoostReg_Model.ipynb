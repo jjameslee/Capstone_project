{
 "cells": [
  {
   "cell_type": "code",
   "execution_count": 10,
   "metadata": {},
   "outputs": [],
   "source": [
    "import pandas as pd\n",
    "import numpy as np\n",
    "import matplotlib.pyplot as plt\n",
    "import seaborn as sns\n",
    "import pickle\n",
    "\n",
    "from xgboost import XGBRegressor\n",
    "from scipy import stats\n",
    "from sklearn.model_selection import train_test_split, GridSearchCV, cross_val_score\n",
    "from sklearn.preprocessing import StandardScaler\n",
    "from sklearn.pipeline import Pipeline\n",
    "from sklearn.metrics import r2_score, mean_squared_error\n",
    "\n",
    "%matplotlib inline"
   ]
  },
  {
   "cell_type": "code",
   "execution_count": 7,
   "metadata": {},
   "outputs": [
    {
     "name": "stdout",
     "output_type": "stream",
     "text": [
      "(1245115, 107)\n"
     ]
    }
   ],
   "source": [
    "lafd_dummies = pd.read_csv('./data/lafd_dummies.csv', index_col=0)\n",
    "print(lafd_dummies.shape)"
   ]
  },
  {
   "cell_type": "code",
   "execution_count": 9,
   "metadata": {},
   "outputs": [
    {
     "data": {
      "text/html": [
       "<div>\n",
       "<style scoped>\n",
       "    .dataframe tbody tr th:only-of-type {\n",
       "        vertical-align: middle;\n",
       "    }\n",
       "\n",
       "    .dataframe tbody tr th {\n",
       "        vertical-align: top;\n",
       "    }\n",
       "\n",
       "    .dataframe thead th {\n",
       "        text-align: right;\n",
       "    }\n",
       "</style>\n",
       "<table border=\"1\" class=\"dataframe\">\n",
       "  <thead>\n",
       "    <tr style=\"text-align: right;\">\n",
       "      <th></th>\n",
       "      <th>first_in_district</th>\n",
       "      <th>total_pop</th>\n",
       "      <th>call_process_time</th>\n",
       "      <th>turnout_time</th>\n",
       "      <th>response_time</th>\n",
       "      <th>year</th>\n",
       "      <th>white_perc</th>\n",
       "      <th>black_perc</th>\n",
       "      <th>ameri_es_perc</th>\n",
       "      <th>asian_perc</th>\n",
       "      <th>...</th>\n",
       "      <th>quarter_3</th>\n",
       "      <th>quarter_4</th>\n",
       "      <th>regions_downtown</th>\n",
       "      <th>regions_east_side</th>\n",
       "      <th>regions_harbor</th>\n",
       "      <th>regions_hollywood</th>\n",
       "      <th>regions_north_east</th>\n",
       "      <th>regions_sf_valley</th>\n",
       "      <th>regions_south_central</th>\n",
       "      <th>regions_west_side</th>\n",
       "    </tr>\n",
       "  </thead>\n",
       "  <tbody>\n",
       "    <tr>\n",
       "      <th>1747427</th>\n",
       "      <td>103</td>\n",
       "      <td>32525.30</td>\n",
       "      <td>41</td>\n",
       "      <td>67</td>\n",
       "      <td>383</td>\n",
       "      <td>2016</td>\n",
       "      <td>34.738773</td>\n",
       "      <td>5.923912</td>\n",
       "      <td>0.016664</td>\n",
       "      <td>12.445881</td>\n",
       "      <td>...</td>\n",
       "      <td>0</td>\n",
       "      <td>0</td>\n",
       "      <td>0</td>\n",
       "      <td>0</td>\n",
       "      <td>0</td>\n",
       "      <td>0</td>\n",
       "      <td>0</td>\n",
       "      <td>1</td>\n",
       "      <td>0</td>\n",
       "      <td>0</td>\n",
       "    </tr>\n",
       "    <tr>\n",
       "      <th>1747428</th>\n",
       "      <td>103</td>\n",
       "      <td>32525.30</td>\n",
       "      <td>41</td>\n",
       "      <td>66</td>\n",
       "      <td>391</td>\n",
       "      <td>2016</td>\n",
       "      <td>34.738773</td>\n",
       "      <td>5.923912</td>\n",
       "      <td>0.016664</td>\n",
       "      <td>12.445881</td>\n",
       "      <td>...</td>\n",
       "      <td>0</td>\n",
       "      <td>0</td>\n",
       "      <td>0</td>\n",
       "      <td>0</td>\n",
       "      <td>0</td>\n",
       "      <td>0</td>\n",
       "      <td>0</td>\n",
       "      <td>1</td>\n",
       "      <td>0</td>\n",
       "      <td>0</td>\n",
       "    </tr>\n",
       "    <tr>\n",
       "      <th>1747429</th>\n",
       "      <td>7</td>\n",
       "      <td>34932.84</td>\n",
       "      <td>40</td>\n",
       "      <td>48</td>\n",
       "      <td>407</td>\n",
       "      <td>2016</td>\n",
       "      <td>8.252034</td>\n",
       "      <td>1.172736</td>\n",
       "      <td>0.193629</td>\n",
       "      <td>11.626052</td>\n",
       "      <td>...</td>\n",
       "      <td>0</td>\n",
       "      <td>0</td>\n",
       "      <td>0</td>\n",
       "      <td>0</td>\n",
       "      <td>0</td>\n",
       "      <td>0</td>\n",
       "      <td>0</td>\n",
       "      <td>1</td>\n",
       "      <td>0</td>\n",
       "      <td>0</td>\n",
       "    </tr>\n",
       "    <tr>\n",
       "      <th>1747430</th>\n",
       "      <td>7</td>\n",
       "      <td>34932.84</td>\n",
       "      <td>40</td>\n",
       "      <td>84</td>\n",
       "      <td>461</td>\n",
       "      <td>2016</td>\n",
       "      <td>8.252034</td>\n",
       "      <td>1.172736</td>\n",
       "      <td>0.193629</td>\n",
       "      <td>11.626052</td>\n",
       "      <td>...</td>\n",
       "      <td>0</td>\n",
       "      <td>0</td>\n",
       "      <td>0</td>\n",
       "      <td>0</td>\n",
       "      <td>0</td>\n",
       "      <td>0</td>\n",
       "      <td>0</td>\n",
       "      <td>1</td>\n",
       "      <td>0</td>\n",
       "      <td>0</td>\n",
       "    </tr>\n",
       "    <tr>\n",
       "      <th>1747431</th>\n",
       "      <td>26</td>\n",
       "      <td>52784.01</td>\n",
       "      <td>101</td>\n",
       "      <td>107</td>\n",
       "      <td>272</td>\n",
       "      <td>2016</td>\n",
       "      <td>5.631099</td>\n",
       "      <td>26.304008</td>\n",
       "      <td>0.056911</td>\n",
       "      <td>7.036260</td>\n",
       "      <td>...</td>\n",
       "      <td>0</td>\n",
       "      <td>0</td>\n",
       "      <td>0</td>\n",
       "      <td>0</td>\n",
       "      <td>0</td>\n",
       "      <td>0</td>\n",
       "      <td>0</td>\n",
       "      <td>0</td>\n",
       "      <td>1</td>\n",
       "      <td>0</td>\n",
       "    </tr>\n",
       "  </tbody>\n",
       "</table>\n",
       "<p>5 rows × 107 columns</p>\n",
       "</div>"
      ],
      "text/plain": [
       "         first_in_district  total_pop  call_process_time  turnout_time  \\\n",
       "1747427                103   32525.30                 41            67   \n",
       "1747428                103   32525.30                 41            66   \n",
       "1747429                  7   34932.84                 40            48   \n",
       "1747430                  7   34932.84                 40            84   \n",
       "1747431                 26   52784.01                101           107   \n",
       "\n",
       "         response_time  year  white_perc  black_perc  ameri_es_perc  \\\n",
       "1747427            383  2016   34.738773    5.923912       0.016664   \n",
       "1747428            391  2016   34.738773    5.923912       0.016664   \n",
       "1747429            407  2016    8.252034    1.172736       0.193629   \n",
       "1747430            461  2016    8.252034    1.172736       0.193629   \n",
       "1747431            272  2016    5.631099   26.304008       0.056911   \n",
       "\n",
       "         asian_perc  ...  quarter_3  quarter_4  regions_downtown  \\\n",
       "1747427   12.445881  ...          0          0                 0   \n",
       "1747428   12.445881  ...          0          0                 0   \n",
       "1747429   11.626052  ...          0          0                 0   \n",
       "1747430   11.626052  ...          0          0                 0   \n",
       "1747431    7.036260  ...          0          0                 0   \n",
       "\n",
       "         regions_east_side  regions_harbor  regions_hollywood  \\\n",
       "1747427                  0               0                  0   \n",
       "1747428                  0               0                  0   \n",
       "1747429                  0               0                  0   \n",
       "1747430                  0               0                  0   \n",
       "1747431                  0               0                  0   \n",
       "\n",
       "         regions_north_east  regions_sf_valley  regions_south_central  \\\n",
       "1747427                   0                  1                      0   \n",
       "1747428                   0                  1                      0   \n",
       "1747429                   0                  1                      0   \n",
       "1747430                   0                  1                      0   \n",
       "1747431                   0                  0                      1   \n",
       "\n",
       "         regions_west_side  \n",
       "1747427                  0  \n",
       "1747428                  0  \n",
       "1747429                  0  \n",
       "1747430                  0  \n",
       "1747431                  0  \n",
       "\n",
       "[5 rows x 107 columns]"
      ]
     },
     "execution_count": 9,
     "metadata": {},
     "output_type": "execute_result"
    }
   ],
   "source": [
    "lafd_dummies.head()"
   ]
  },
  {
   "cell_type": "code",
   "execution_count": 11,
   "metadata": {},
   "outputs": [
    {
     "name": "stderr",
     "output_type": "stream",
     "text": [
      "/Users/jameslee/anaconda3/lib/python3.6/site-packages/sklearn/preprocessing/data.py:645: DataConversionWarning: Data with input dtype int64, float64 were all converted to float64 by StandardScaler.\n",
      "  return self.partial_fit(X, y)\n",
      "/Users/jameslee/anaconda3/lib/python3.6/site-packages/sklearn/base.py:464: DataConversionWarning: Data with input dtype int64, float64 were all converted to float64 by StandardScaler.\n",
      "  return self.fit(X, **fit_params).transform(X)\n",
      "/Users/jameslee/anaconda3/lib/python3.6/site-packages/ipykernel_launcher.py:15: DataConversionWarning: Data with input dtype int64, float64 were all converted to float64 by StandardScaler.\n",
      "  from ipykernel import kernelapp as app\n"
     ]
    }
   ],
   "source": [
    "lafd_dummies['logy'] = lafd_dummies['response_time'].apply(np.log)\n",
    "\n",
    "\n",
    "X = lafd_dummies.drop(columns=['response_time', 'logy'])\n",
    "y = lafd_dummies['logy']\n",
    "\n",
    "X_train, X_test, y_train, y_test = train_test_split(X,\n",
    "                                                    y, \n",
    "                                                    random_state= 42, \n",
    "                                                    test_size = 0.3);\n",
    "\n",
    "\n",
    "ss = StandardScaler()\n",
    "X_train_sc = ss.fit_transform(X_train)\n",
    "X_test_sc = ss.transform(X_test)"
   ]
  },
  {
   "cell_type": "code",
   "execution_count": 69,
   "metadata": {},
   "outputs": [
    {
     "name": "stderr",
     "output_type": "stream",
     "text": [
      "/Users/jameslee/anaconda3/lib/python3.6/site-packages/xgboost/core.py:587: FutureWarning: Series.base is deprecated and will be removed in a future version\n",
      "  if getattr(data, 'base', None) is not None and \\\n"
     ]
    },
    {
     "name": "stdout",
     "output_type": "stream",
     "text": [
      "0.18798496719948987\n",
      "0.18647861594707427\n"
     ]
    }
   ],
   "source": [
    "\n",
    "xg = XGBRegressor()\n",
    "xg.fit(X_train_sc, y_train)\n",
    "\n",
    "y_pred = xg.predict(X_test_sc)\n",
    "\n",
    "\n",
    "print(xg.score(X_train_sc, y_train))\n",
    "print(xg.score(X_test_sc, y_test))"
   ]
  },
  {
   "cell_type": "code",
   "execution_count": 71,
   "metadata": {},
   "outputs": [
    {
     "name": "stdout",
     "output_type": "stream",
     "text": [
      "RMSE for XGBRegressor: 0.434\n"
     ]
    }
   ],
   "source": [
    "RMSE = round(mean_squared_error(y_test , y_pred)**0.5, 3)\n",
    "print(f'RMSE for XGBRegressor: {RMSE}')"
   ]
  },
  {
   "cell_type": "code",
   "execution_count": 13,
   "metadata": {},
   "outputs": [
    {
     "name": "stderr",
     "output_type": "stream",
     "text": [
      "/Users/jameslee/anaconda3/lib/python3.6/site-packages/xgboost/core.py:587: FutureWarning: Series.base is deprecated and will be removed in a future version\n",
      "  if getattr(data, 'base', None) is not None and \\\n",
      "/Users/jameslee/anaconda3/lib/python3.6/site-packages/xgboost/core.py:587: FutureWarning: Series.base is deprecated and will be removed in a future version\n",
      "  if getattr(data, 'base', None) is not None and \\\n",
      "/Users/jameslee/anaconda3/lib/python3.6/site-packages/xgboost/core.py:587: FutureWarning: Series.base is deprecated and will be removed in a future version\n",
      "  if getattr(data, 'base', None) is not None and \\\n",
      "/Users/jameslee/anaconda3/lib/python3.6/site-packages/xgboost/core.py:587: FutureWarning: Series.base is deprecated and will be removed in a future version\n",
      "  if getattr(data, 'base', None) is not None and \\\n",
      "/Users/jameslee/anaconda3/lib/python3.6/site-packages/xgboost/core.py:587: FutureWarning: Series.base is deprecated and will be removed in a future version\n",
      "  if getattr(data, 'base', None) is not None and \\\n",
      "/Users/jameslee/anaconda3/lib/python3.6/site-packages/xgboost/core.py:587: FutureWarning: Series.base is deprecated and will be removed in a future version\n",
      "  if getattr(data, 'base', None) is not None and \\\n",
      "/Users/jameslee/anaconda3/lib/python3.6/site-packages/xgboost/core.py:587: FutureWarning: Series.base is deprecated and will be removed in a future version\n",
      "  if getattr(data, 'base', None) is not None and \\\n",
      "/Users/jameslee/anaconda3/lib/python3.6/site-packages/xgboost/core.py:587: FutureWarning: Series.base is deprecated and will be removed in a future version\n",
      "  if getattr(data, 'base', None) is not None and \\\n",
      "/Users/jameslee/anaconda3/lib/python3.6/site-packages/xgboost/core.py:587: FutureWarning: Series.base is deprecated and will be removed in a future version\n",
      "  if getattr(data, 'base', None) is not None and \\\n",
      "/Users/jameslee/anaconda3/lib/python3.6/site-packages/xgboost/core.py:587: FutureWarning: Series.base is deprecated and will be removed in a future version\n",
      "  if getattr(data, 'base', None) is not None and \\\n",
      "/Users/jameslee/anaconda3/lib/python3.6/site-packages/xgboost/core.py:587: FutureWarning: Series.base is deprecated and will be removed in a future version\n",
      "  if getattr(data, 'base', None) is not None and \\\n",
      "/Users/jameslee/anaconda3/lib/python3.6/site-packages/xgboost/core.py:587: FutureWarning: Series.base is deprecated and will be removed in a future version\n",
      "  if getattr(data, 'base', None) is not None and \\\n",
      "/Users/jameslee/anaconda3/lib/python3.6/site-packages/xgboost/core.py:587: FutureWarning: Series.base is deprecated and will be removed in a future version\n",
      "  if getattr(data, 'base', None) is not None and \\\n"
     ]
    },
    {
     "name": "stdout",
     "output_type": "stream",
     "text": [
      "0.22634483822527096\n"
     ]
    },
    {
     "data": {
      "text/plain": [
       "{'learning_rate': 0.1, 'max_depth': 8, 'n_estimators': 100}"
      ]
     },
     "execution_count": 13,
     "metadata": {},
     "output_type": "execute_result"
    }
   ],
   "source": [
    "xgboost = XGBRegressor(random_state=42, n_jobs=-1)\n",
    "xg_params = {\n",
    "             'learning_rate': [0.05,0.1],\n",
    "             'max_depth': [7,8],\n",
    "             'n_estimators': [100]\n",
    "}\n",
    "\n",
    "\n",
    "gs = GridSearchCV(xgboost, param_grid= xg_params, cv=3)\n",
    "\n",
    "gs.fit(X_train_sc, y_train)\n",
    "print(gs.best_score_)\n",
    "gs.best_params_"
   ]
  },
  {
   "cell_type": "code",
   "execution_count": 14,
   "metadata": {},
   "outputs": [
    {
     "name": "stderr",
     "output_type": "stream",
     "text": [
      "/Users/jameslee/anaconda3/lib/python3.6/site-packages/xgboost/core.py:587: FutureWarning: Series.base is deprecated and will be removed in a future version\n",
      "  if getattr(data, 'base', None) is not None and \\\n"
     ]
    },
    {
     "name": "stdout",
     "output_type": "stream",
     "text": [
      "0.2673219319016469\n",
      "0.23038594890460729\n"
     ]
    }
   ],
   "source": [
    "xg = XGBRegressor(max_depth=10, learning_rate= 0.1, n_estimators=100)\n",
    "xg.fit(X_train_sc, y_train)\n",
    "\n",
    "y_pred = xg.predict(X_test_sc)\n",
    "\n",
    "\n",
    "print(xg.score(X_train_sc, y_train))\n",
    "print(xg.score(X_test_sc, y_test))"
   ]
  },
  {
   "cell_type": "code",
   "execution_count": 15,
   "metadata": {},
   "outputs": [
    {
     "data": {
      "text/plain": [
       "Text(0, 0.5, 'Feature')"
      ]
     },
     "execution_count": 15,
     "metadata": {},
     "output_type": "execute_result"
    },
    {
     "data": {
      "image/png": "[encoded data removed]",
      "text/plain": [
       "<Figure size 1440x720 with 1 Axes>"
      ]
     },
     "metadata": {
      "needs_background": "light"
     },
     "output_type": "display_data"
    }
   ],
   "source": [
    "feat_importance = pd.DataFrame(xg.feature_importances_,  \n",
    "                               X.columns, \n",
    "                               columns=['importance'])\n",
    "plt.figure(figsize=(20,10))\n",
    "temp = feat_importance.sort_values('importance', ascending=False).head(10)\n",
    "plt.barh(temp.index, temp['importance'])\n",
    "plt.title('Top 20 Features', fontsize=30)\n",
    "plt.xlabel('Amount of information gained', fontsize=20)\n",
    "plt.ylabel('Feature', fontsize=20)"
   ]
  },
  {
   "cell_type": "markdown",
   "metadata": {},
   "source": [
    "BLS RESCUE AMBULANCE and ALS RESCUE AMBULANCE are the top 2 most important features according to the XG Boost Model. \n",
    "ALS is a rescue ambulance that is staffed with parademics, people with training that allows them to stabilize patients en-route to a hospital.\n",
    "BLS is a rescue ambulance with two EM technicians instead of paramedics, those individuals cannot use needles, cut skin, or administer medications to patients.\n",
    "\n",
    "In many cases, BLS ambulances will be dispatched only to realize the patient requires an ALS ambulance for medical treatment during transport. This is reflected even in our dataset as more than 85% of the LAFD incident calls are medical emergencies.\n",
    "\n",
    "Given all these reasons, we recommend the City of LA and the LAFD to increase the number of ALS ambulances instead of increasing the number of BLS ambulances. \n",
    "\n"
   ]
  }
 ],
 "metadata": {
  "kernelspec": {
   "display_name": "Python 3",
   "language": "python",
   "name": "python3"
  },
  "language_info": {
   "codemirror_mode": {
    "name": "ipython",
    "version": 3
   },
   "file_extension": ".py",
   "mimetype": "text/x-python",
   "name": "python",
   "nbconvert_exporter": "python",
   "pygments_lexer": "ipython3",
   "version": "3.6.8"
  }
 },
 "nbformat": 4,
 "nbformat_minor": 2
}
