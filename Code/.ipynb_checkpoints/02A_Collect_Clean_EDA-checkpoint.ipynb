{
 "cells": [
  {
   "cell_type": "code",
   "execution_count": 1,
   "metadata": {},
   "outputs": [],
   "source": [
    "import numpy as np\n",
    "import pandas as pd\n",
    "import datetime\n",
    "import pickle\n",
    "\n",
    "%matplotlib inline\n",
    "import matplotlib\n",
    "import matplotlib.pyplot as plt"
   ]
  },
  {
   "cell_type": "markdown",
   "metadata": {},
   "source": [
    "### Collecting the data using LA CITY DATA API \n",
    "\n",
    "The default API recommends using Socrata since it converts JSON to Python list of dictionaries. As a result, it can instantly be translated into a dataframe.\n",
    "Using this, we imported 4 million of the 4.7million rows of data."
   ]
  },
  {
   "cell_type": "code",
   "execution_count": null,
   "metadata": {},
   "outputs": [],
   "source": [
    "from sodapy import Socrata\n",
    "\n",
    "# Unauthenticated client only works with public data sets. Note 'None'\n",
    "# in place of application token, and no username or password:\n",
    "\n",
    "client = Socrata(\"data.lacity.org\", None)\n",
    "\n",
    "\n",
    "# Pull 4 million results, returned as JSON from API / converted to Python list of\n",
    "# dictionaries by sodapy.\n",
    "\n",
    "results = client.get(\"n44u-wxe4\", limit=4_000_000)\n",
    "\n",
    "\n",
    "# Convert to pandas DataFrame\n",
    "results_df = pd.DataFrame.from_records(results)"
   ]
  },
  {
   "cell_type": "code",
   "execution_count": 68,
   "metadata": {},
   "outputs": [
    {
     "data": {
      "text/plain": [
       "(4000000, 11)"
      ]
     },
     "execution_count": 68,
     "metadata": {},
     "output_type": "execute_result"
    }
   ],
   "source": [
    "results_df.shape"
   ]
  },
  {
   "cell_type": "code",
   "execution_count": 69,
   "metadata": {},
   "outputs": [],
   "source": [
    "# results_df.to_csv('./data/LAFD_Raw_Response_Metrics_4mil.csv')"
   ]
  },
  {
   "cell_type": "code",
   "execution_count": 4,
   "metadata": {},
   "outputs": [
    {
     "name": "stderr",
     "output_type": "stream",
     "text": [
      "/Users/jameslee/anaconda3/lib/python3.6/site-packages/numpy/lib/arraysetops.py:569: FutureWarning: elementwise comparison failed; returning scalar instead, but in the future will perform elementwise comparison\n",
      "  mask |= (ar1 == a)\n"
     ]
    },
    {
     "name": "stdout",
     "output_type": "stream",
     "text": [
      "(4000000, 11)\n"
     ]
    },
    {
     "data": {
      "text/html": [
       "<div>\n",
       "<style scoped>\n",
       "    .dataframe tbody tr th:only-of-type {\n",
       "        vertical-align: middle;\n",
       "    }\n",
       "\n",
       "    .dataframe tbody tr th {\n",
       "        vertical-align: top;\n",
       "    }\n",
       "\n",
       "    .dataframe thead th {\n",
       "        text-align: right;\n",
       "    }\n",
       "</style>\n",
       "<table border=\"1\" class=\"dataframe\">\n",
       "  <thead>\n",
       "    <tr style=\"text-align: right;\">\n",
       "      <th></th>\n",
       "      <th>dispatch_sequence</th>\n",
       "      <th>dispatch_status</th>\n",
       "      <th>emergency_dispatch_code</th>\n",
       "      <th>en_route_time_gmt</th>\n",
       "      <th>first_in_district</th>\n",
       "      <th>incident_creation_time_gmt</th>\n",
       "      <th>on_scene_time_gmt</th>\n",
       "      <th>ppe_level</th>\n",
       "      <th>randomized_incident_number</th>\n",
       "      <th>time_of_dispatch_gmt</th>\n",
       "      <th>unit_type</th>\n",
       "    </tr>\n",
       "  </thead>\n",
       "  <tbody>\n",
       "    <tr>\n",
       "      <th>0</th>\n",
       "      <td>1</td>\n",
       "      <td>QTR</td>\n",
       "      <td>Emergency</td>\n",
       "      <td>08:04:25.938953</td>\n",
       "      <td>10.0</td>\n",
       "      <td>08:01:04.000000</td>\n",
       "      <td>08:08:30.677752</td>\n",
       "      <td>EMS</td>\n",
       "      <td>201301588315</td>\n",
       "      <td>08:02:21.320320</td>\n",
       "      <td>RA - ALS RESCUE AMBULANCE</td>\n",
       "    </tr>\n",
       "    <tr>\n",
       "      <th>1</th>\n",
       "      <td>2</td>\n",
       "      <td>QTR</td>\n",
       "      <td>Emergency</td>\n",
       "      <td>08:04:30.594473</td>\n",
       "      <td>52.0</td>\n",
       "      <td>08:00:56.000000</td>\n",
       "      <td>08:08:01.409394</td>\n",
       "      <td>EMS</td>\n",
       "      <td>201301588315</td>\n",
       "      <td>08:03:00.001407</td>\n",
       "      <td>E - ENGINE</td>\n",
       "    </tr>\n",
       "    <tr>\n",
       "      <th>2</th>\n",
       "      <td>3</td>\n",
       "      <td>QTR</td>\n",
       "      <td>Emergency</td>\n",
       "      <td>08:04:12.203676</td>\n",
       "      <td>52.0</td>\n",
       "      <td>08:00:56.000000</td>\n",
       "      <td>08:08:29.863091</td>\n",
       "      <td>EMS</td>\n",
       "      <td>201301588315</td>\n",
       "      <td>08:03:00.006304</td>\n",
       "      <td>RA - ALS RESCUE AMBULANCE</td>\n",
       "    </tr>\n",
       "    <tr>\n",
       "      <th>3</th>\n",
       "      <td>1</td>\n",
       "      <td>QTR</td>\n",
       "      <td>Emergency</td>\n",
       "      <td>08:04:11.383828</td>\n",
       "      <td>29.0</td>\n",
       "      <td>08:01:40.000000</td>\n",
       "      <td>08:08:51.592955</td>\n",
       "      <td>EMS</td>\n",
       "      <td>201301588316</td>\n",
       "      <td>08:02:58.285036</td>\n",
       "      <td>RA - ALS RESCUE AMBULANCE</td>\n",
       "    </tr>\n",
       "    <tr>\n",
       "      <th>4</th>\n",
       "      <td>2</td>\n",
       "      <td>QTR</td>\n",
       "      <td>Emergency</td>\n",
       "      <td>08:04:28.254742</td>\n",
       "      <td>29.0</td>\n",
       "      <td>08:01:40.000000</td>\n",
       "      <td>08:19:33.368940</td>\n",
       "      <td>EMS</td>\n",
       "      <td>201301588316</td>\n",
       "      <td>08:02:58.289767</td>\n",
       "      <td>RA8XX - BLS RESCUE AMBULANCE</td>\n",
       "    </tr>\n",
       "  </tbody>\n",
       "</table>\n",
       "</div>"
      ],
      "text/plain": [
       "   dispatch_sequence dispatch_status emergency_dispatch_code  \\\n",
       "0                  1             QTR               Emergency   \n",
       "1                  2             QTR               Emergency   \n",
       "2                  3             QTR               Emergency   \n",
       "3                  1             QTR               Emergency   \n",
       "4                  2             QTR               Emergency   \n",
       "\n",
       "  en_route_time_gmt  first_in_district incident_creation_time_gmt  \\\n",
       "0   08:04:25.938953               10.0            08:01:04.000000   \n",
       "1   08:04:30.594473               52.0            08:00:56.000000   \n",
       "2   08:04:12.203676               52.0            08:00:56.000000   \n",
       "3   08:04:11.383828               29.0            08:01:40.000000   \n",
       "4   08:04:28.254742               29.0            08:01:40.000000   \n",
       "\n",
       "  on_scene_time_gmt ppe_level  randomized_incident_number  \\\n",
       "0   08:08:30.677752       EMS                201301588315   \n",
       "1   08:08:01.409394       EMS                201301588315   \n",
       "2   08:08:29.863091       EMS                201301588315   \n",
       "3   08:08:51.592955       EMS                201301588316   \n",
       "4   08:19:33.368940       EMS                201301588316   \n",
       "\n",
       "  time_of_dispatch_gmt                     unit_type  \n",
       "0      08:02:21.320320     RA - ALS RESCUE AMBULANCE  \n",
       "1      08:03:00.001407                    E - ENGINE  \n",
       "2      08:03:00.006304     RA - ALS RESCUE AMBULANCE  \n",
       "3      08:02:58.285036     RA - ALS RESCUE AMBULANCE  \n",
       "4      08:02:58.289767  RA8XX - BLS RESCUE AMBULANCE  "
      ]
     },
     "execution_count": 4,
     "metadata": {},
     "output_type": "execute_result"
    }
   ],
   "source": [
    "lafd= pd.read_csv('./data/LAFD_Raw_Response_Metrics_4mil.csv', index_col=0)\n",
    "print(lafd.shape)\n",
    "lafd.head()"
   ]
  },
  {
   "cell_type": "code",
   "execution_count": 6,
   "metadata": {},
   "outputs": [
    {
     "data": {
      "text/plain": [
       "dispatch_sequence                  0\n",
       "dispatch_status                    0\n",
       "emergency_dispatch_code            0\n",
       "en_route_time_gmt             110020\n",
       "first_in_district                425\n",
       "incident_creation_time_gmt         0\n",
       "on_scene_time_gmt             573804\n",
       "ppe_level                          0\n",
       "randomized_incident_number         0\n",
       "time_of_dispatch_gmt               0\n",
       "unit_type                          0\n",
       "dtype: int64"
      ]
     },
     "execution_count": 6,
     "metadata": {},
     "output_type": "execute_result"
    }
   ],
   "source": [
    "lafd.isnull().sum()"
   ]
  },
  {
   "cell_type": "markdown",
   "metadata": {},
   "source": [
    "**Emergency Dispatch Code**\n",
    "* Indicates whether an incident was categorized as emergency or non-emergency. This dataset contains information related to emergency incidents only. As a result, we will remove this column as it adds no value.\n",
    "\n",
    "**En Route Time (GMT)**\n",
    "* \"CAD captures the time when LAFD resources leave quarters by storing the time in which the corresponding key is pressed at the resource’s Mobile Data Computer (MDC).\" Due to the fact that we will be trying to create a model that can predict reponse time which incorporates the en route time, we will remove any null values in this feature.\n",
    "\n",
    "**On Scene Time (GMT)**\n",
    "* \"CAD captures the time when LAFD resources arrive at the scene of the incident when the corresponding key is pressed at the resource’s MDC.\" Due to the fact that we will be trying to create a model that can predict reponse time which incorporates the on scene time, we will remove any null values in this feature.\n",
    "\n",
    "*\"It must be noted that the recording of En Route Time and On-Scene Time is an event-driven process that requires first-responder interaction. The precision of those time stamps depends on the timeliness of when the user manually activates the respective function key on the MDC (Mobile Data Computer).\"*"
   ]
  },
  {
   "cell_type": "code",
   "execution_count": 7,
   "metadata": {},
   "outputs": [],
   "source": [
    "lafd.drop(columns='emergency_dispatch_code', inplace=True)\n",
    "lafd.dropna(subset=['first_in_district', 'en_route_time_gmt', 'on_scene_time_gmt'], inplace=True)\n",
    "lafd['first_in_district']= [int(i) for i in lafd['first_in_district']]"
   ]
  },
  {
   "cell_type": "code",
   "execution_count": 8,
   "metadata": {},
   "outputs": [
    {
     "data": {
      "text/plain": [
       "0"
      ]
     },
     "execution_count": 8,
     "metadata": {},
     "output_type": "execute_result"
    }
   ],
   "source": [
    "lafd.isnull().sum().sum()"
   ]
  },
  {
   "cell_type": "code",
   "execution_count": 9,
   "metadata": {},
   "outputs": [
    {
     "name": "stdout",
     "output_type": "stream",
     "text": [
      "(3400480, 10)\n"
     ]
    },
    {
     "data": {
      "text/html": [
       "<div>\n",
       "<style scoped>\n",
       "    .dataframe tbody tr th:only-of-type {\n",
       "        vertical-align: middle;\n",
       "    }\n",
       "\n",
       "    .dataframe tbody tr th {\n",
       "        vertical-align: top;\n",
       "    }\n",
       "\n",
       "    .dataframe thead th {\n",
       "        text-align: right;\n",
       "    }\n",
       "</style>\n",
       "<table border=\"1\" class=\"dataframe\">\n",
       "  <thead>\n",
       "    <tr style=\"text-align: right;\">\n",
       "      <th></th>\n",
       "      <th>dispatch_sequence</th>\n",
       "      <th>dispatch_status</th>\n",
       "      <th>en_route_time_gmt</th>\n",
       "      <th>first_in_district</th>\n",
       "      <th>incident_creation_time_gmt</th>\n",
       "      <th>on_scene_time_gmt</th>\n",
       "      <th>ppe_level</th>\n",
       "      <th>randomized_incident_number</th>\n",
       "      <th>time_of_dispatch_gmt</th>\n",
       "      <th>unit_type</th>\n",
       "    </tr>\n",
       "  </thead>\n",
       "  <tbody>\n",
       "    <tr>\n",
       "      <th>0</th>\n",
       "      <td>1</td>\n",
       "      <td>QTR</td>\n",
       "      <td>08:04:25.938953</td>\n",
       "      <td>10</td>\n",
       "      <td>08:01:04.000000</td>\n",
       "      <td>08:08:30.677752</td>\n",
       "      <td>EMS</td>\n",
       "      <td>201301588315</td>\n",
       "      <td>08:02:21.320320</td>\n",
       "      <td>RA - ALS RESCUE AMBULANCE</td>\n",
       "    </tr>\n",
       "    <tr>\n",
       "      <th>1</th>\n",
       "      <td>2</td>\n",
       "      <td>QTR</td>\n",
       "      <td>08:04:30.594473</td>\n",
       "      <td>52</td>\n",
       "      <td>08:00:56.000000</td>\n",
       "      <td>08:08:01.409394</td>\n",
       "      <td>EMS</td>\n",
       "      <td>201301588315</td>\n",
       "      <td>08:03:00.001407</td>\n",
       "      <td>E - ENGINE</td>\n",
       "    </tr>\n",
       "    <tr>\n",
       "      <th>2</th>\n",
       "      <td>3</td>\n",
       "      <td>QTR</td>\n",
       "      <td>08:04:12.203676</td>\n",
       "      <td>52</td>\n",
       "      <td>08:00:56.000000</td>\n",
       "      <td>08:08:29.863091</td>\n",
       "      <td>EMS</td>\n",
       "      <td>201301588315</td>\n",
       "      <td>08:03:00.006304</td>\n",
       "      <td>RA - ALS RESCUE AMBULANCE</td>\n",
       "    </tr>\n",
       "    <tr>\n",
       "      <th>3</th>\n",
       "      <td>1</td>\n",
       "      <td>QTR</td>\n",
       "      <td>08:04:11.383828</td>\n",
       "      <td>29</td>\n",
       "      <td>08:01:40.000000</td>\n",
       "      <td>08:08:51.592955</td>\n",
       "      <td>EMS</td>\n",
       "      <td>201301588316</td>\n",
       "      <td>08:02:58.285036</td>\n",
       "      <td>RA - ALS RESCUE AMBULANCE</td>\n",
       "    </tr>\n",
       "    <tr>\n",
       "      <th>4</th>\n",
       "      <td>2</td>\n",
       "      <td>QTR</td>\n",
       "      <td>08:04:28.254742</td>\n",
       "      <td>29</td>\n",
       "      <td>08:01:40.000000</td>\n",
       "      <td>08:19:33.368940</td>\n",
       "      <td>EMS</td>\n",
       "      <td>201301588316</td>\n",
       "      <td>08:02:58.289767</td>\n",
       "      <td>RA8XX - BLS RESCUE AMBULANCE</td>\n",
       "    </tr>\n",
       "  </tbody>\n",
       "</table>\n",
       "</div>"
      ],
      "text/plain": [
       "   dispatch_sequence dispatch_status en_route_time_gmt  first_in_district  \\\n",
       "0                  1             QTR   08:04:25.938953                 10   \n",
       "1                  2             QTR   08:04:30.594473                 52   \n",
       "2                  3             QTR   08:04:12.203676                 52   \n",
       "3                  1             QTR   08:04:11.383828                 29   \n",
       "4                  2             QTR   08:04:28.254742                 29   \n",
       "\n",
       "  incident_creation_time_gmt on_scene_time_gmt ppe_level  \\\n",
       "0            08:01:04.000000   08:08:30.677752       EMS   \n",
       "1            08:00:56.000000   08:08:01.409394       EMS   \n",
       "2            08:00:56.000000   08:08:29.863091       EMS   \n",
       "3            08:01:40.000000   08:08:51.592955       EMS   \n",
       "4            08:01:40.000000   08:19:33.368940       EMS   \n",
       "\n",
       "   randomized_incident_number time_of_dispatch_gmt  \\\n",
       "0                201301588315      08:02:21.320320   \n",
       "1                201301588315      08:03:00.001407   \n",
       "2                201301588315      08:03:00.006304   \n",
       "3                201301588316      08:02:58.285036   \n",
       "4                201301588316      08:02:58.289767   \n",
       "\n",
       "                      unit_type  \n",
       "0     RA - ALS RESCUE AMBULANCE  \n",
       "1                    E - ENGINE  \n",
       "2     RA - ALS RESCUE AMBULANCE  \n",
       "3     RA - ALS RESCUE AMBULANCE  \n",
       "4  RA8XX - BLS RESCUE AMBULANCE  "
      ]
     },
     "execution_count": 9,
     "metadata": {},
     "output_type": "execute_result"
    }
   ],
   "source": [
    "print(lafd.shape)\n",
    "lafd.head()"
   ]
  },
  {
   "cell_type": "markdown",
   "metadata": {},
   "source": [
    "**First In District**\n",
    "* \"The location where the incident occurred in terms of a Fire Station district. The area where a particular fire station responds as well as where the incident occurred.\"\n",
    "* There are 98 fire-stations in our dataset. All 98 fire-stations belong to a neighborhood council. 24 neighborhood councils have more than 1 fire-stations within its' boundaries. "
   ]
  },
  {
   "cell_type": "code",
   "execution_count": 10,
   "metadata": {},
   "outputs": [
    {
     "data": {
      "text/plain": [
       "array([ 10,  52,  29,  13,  95, 104,  93,  57,  79,  59,  65,  63,  20,\n",
       "        81,  12,   2,  71,  37,  36,  64,  27,  74,  15,   4,  66,  72,\n",
       "         9,  85, 107,  26,  21,  48,  34,  77,  94,  89,  98,  62, 109,\n",
       "        14,  78,  43,  56,  92, 101,  61,  11,  58, 100,  83,  68,  38,\n",
       "        75,  46,  67, 112,  18,  90,  39,   5,  19,  55,  88,  91,  84,\n",
       "        82,  33, 106,  40,   8,   3,   1, 102,  44,  86,  41,  60, 105,\n",
       "        47,   6,  96,  70,  35,  97,  17,  42,  69,  51,  87,  76, 103,\n",
       "        23,   7,  73,  24,  25,  99,  50, 108,  28,  16,  49, 111, 110,\n",
       "       122, 124, 123, 121, 125])"
      ]
     },
     "execution_count": 10,
     "metadata": {},
     "output_type": "execute_result"
    }
   ],
   "source": [
    "lafd['first_in_district'].unique()"
   ]
  },
  {
   "cell_type": "code",
   "execution_count": 11,
   "metadata": {},
   "outputs": [],
   "source": [
    "lafd['nc_name'] = lafd['first_in_district']"
   ]
  },
  {
   "cell_type": "code",
   "execution_count": 12,
   "metadata": {},
   "outputs": [],
   "source": [
    "with open('./assets/reverse_dict.pkl','rb') as f:\n",
    "    reverse_dict = pickle.load(f)"
   ]
  },
  {
   "cell_type": "code",
   "execution_count": 13,
   "metadata": {},
   "outputs": [
    {
     "name": "stdout",
     "output_type": "stream",
     "text": [
      "Number of fire-stations: 98\n",
      "Number of unique fire-stations: 98\n",
      "Number of fire-stations in NCs: 98\n",
      "Number of unique NCs with fire-stations: 74\n"
     ]
    }
   ],
   "source": [
    "print(f'Number of fire-stations: {len(reverse_dict.keys())}')\n",
    "print(f'Number of unique fire-stations: {len(set(reverse_dict.keys()))}')\n",
    "print(f'Number of fire-stations in NCs: {len(reverse_dict.values())}')\n",
    "print(f'Number of unique NCs with fire-stations: {len(set(reverse_dict.values()))}')\n",
    "# this makes sense. 74 unique Neighborhood councils with at least 1 fire-station, 98 total number of fire stations among the neighborhood councils in the LA County. \n",
    "# 24 neighborhood councils have more than 1 fire stations within its' boundaries."
   ]
  },
  {
   "cell_type": "code",
   "execution_count": 14,
   "metadata": {},
   "outputs": [],
   "source": [
    "lafd['nc_name'] = lafd['first_in_district'].map(reverse_dict)"
   ]
  },
  {
   "cell_type": "code",
   "execution_count": 15,
   "metadata": {},
   "outputs": [
    {
     "data": {
      "text/html": [
       "<div>\n",
       "<style scoped>\n",
       "    .dataframe tbody tr th:only-of-type {\n",
       "        vertical-align: middle;\n",
       "    }\n",
       "\n",
       "    .dataframe tbody tr th {\n",
       "        vertical-align: top;\n",
       "    }\n",
       "\n",
       "    .dataframe thead th {\n",
       "        text-align: right;\n",
       "    }\n",
       "</style>\n",
       "<table border=\"1\" class=\"dataframe\">\n",
       "  <thead>\n",
       "    <tr style=\"text-align: right;\">\n",
       "      <th></th>\n",
       "      <th>dispatch_sequence</th>\n",
       "      <th>dispatch_status</th>\n",
       "      <th>en_route_time_gmt</th>\n",
       "      <th>first_in_district</th>\n",
       "      <th>incident_creation_time_gmt</th>\n",
       "      <th>on_scene_time_gmt</th>\n",
       "      <th>ppe_level</th>\n",
       "      <th>randomized_incident_number</th>\n",
       "      <th>time_of_dispatch_gmt</th>\n",
       "      <th>unit_type</th>\n",
       "      <th>nc_name</th>\n",
       "    </tr>\n",
       "  </thead>\n",
       "  <tbody>\n",
       "    <tr>\n",
       "      <th>0</th>\n",
       "      <td>1</td>\n",
       "      <td>QTR</td>\n",
       "      <td>08:04:25.938953</td>\n",
       "      <td>10</td>\n",
       "      <td>08:01:04.000000</td>\n",
       "      <td>08:08:30.677752</td>\n",
       "      <td>EMS</td>\n",
       "      <td>201301588315</td>\n",
       "      <td>08:02:21.320320</td>\n",
       "      <td>RA - ALS RESCUE AMBULANCE</td>\n",
       "      <td>DOWNTOWN LOS ANGELES</td>\n",
       "    </tr>\n",
       "    <tr>\n",
       "      <th>1</th>\n",
       "      <td>2</td>\n",
       "      <td>QTR</td>\n",
       "      <td>08:04:30.594473</td>\n",
       "      <td>52</td>\n",
       "      <td>08:00:56.000000</td>\n",
       "      <td>08:08:01.409394</td>\n",
       "      <td>EMS</td>\n",
       "      <td>201301588315</td>\n",
       "      <td>08:03:00.001407</td>\n",
       "      <td>E - ENGINE</td>\n",
       "      <td>HOLLYWOOD STUDIO DISTRICT NC</td>\n",
       "    </tr>\n",
       "    <tr>\n",
       "      <th>2</th>\n",
       "      <td>3</td>\n",
       "      <td>QTR</td>\n",
       "      <td>08:04:12.203676</td>\n",
       "      <td>52</td>\n",
       "      <td>08:00:56.000000</td>\n",
       "      <td>08:08:29.863091</td>\n",
       "      <td>EMS</td>\n",
       "      <td>201301588315</td>\n",
       "      <td>08:03:00.006304</td>\n",
       "      <td>RA - ALS RESCUE AMBULANCE</td>\n",
       "      <td>HOLLYWOOD STUDIO DISTRICT NC</td>\n",
       "    </tr>\n",
       "    <tr>\n",
       "      <th>3</th>\n",
       "      <td>1</td>\n",
       "      <td>QTR</td>\n",
       "      <td>08:04:11.383828</td>\n",
       "      <td>29</td>\n",
       "      <td>08:01:40.000000</td>\n",
       "      <td>08:08:51.592955</td>\n",
       "      <td>EMS</td>\n",
       "      <td>201301588316</td>\n",
       "      <td>08:02:58.285036</td>\n",
       "      <td>RA - ALS RESCUE AMBULANCE</td>\n",
       "      <td>GREATER WILSHIRE NC</td>\n",
       "    </tr>\n",
       "    <tr>\n",
       "      <th>4</th>\n",
       "      <td>2</td>\n",
       "      <td>QTR</td>\n",
       "      <td>08:04:28.254742</td>\n",
       "      <td>29</td>\n",
       "      <td>08:01:40.000000</td>\n",
       "      <td>08:19:33.368940</td>\n",
       "      <td>EMS</td>\n",
       "      <td>201301588316</td>\n",
       "      <td>08:02:58.289767</td>\n",
       "      <td>RA8XX - BLS RESCUE AMBULANCE</td>\n",
       "      <td>GREATER WILSHIRE NC</td>\n",
       "    </tr>\n",
       "  </tbody>\n",
       "</table>\n",
       "</div>"
      ],
      "text/plain": [
       "   dispatch_sequence dispatch_status en_route_time_gmt  first_in_district  \\\n",
       "0                  1             QTR   08:04:25.938953                 10   \n",
       "1                  2             QTR   08:04:30.594473                 52   \n",
       "2                  3             QTR   08:04:12.203676                 52   \n",
       "3                  1             QTR   08:04:11.383828                 29   \n",
       "4                  2             QTR   08:04:28.254742                 29   \n",
       "\n",
       "  incident_creation_time_gmt on_scene_time_gmt ppe_level  \\\n",
       "0            08:01:04.000000   08:08:30.677752       EMS   \n",
       "1            08:00:56.000000   08:08:01.409394       EMS   \n",
       "2            08:00:56.000000   08:08:29.863091       EMS   \n",
       "3            08:01:40.000000   08:08:51.592955       EMS   \n",
       "4            08:01:40.000000   08:19:33.368940       EMS   \n",
       "\n",
       "   randomized_incident_number time_of_dispatch_gmt  \\\n",
       "0                201301588315      08:02:21.320320   \n",
       "1                201301588315      08:03:00.001407   \n",
       "2                201301588315      08:03:00.006304   \n",
       "3                201301588316      08:02:58.285036   \n",
       "4                201301588316      08:02:58.289767   \n",
       "\n",
       "                      unit_type                       nc_name  \n",
       "0     RA - ALS RESCUE AMBULANCE          DOWNTOWN LOS ANGELES  \n",
       "1                    E - ENGINE  HOLLYWOOD STUDIO DISTRICT NC  \n",
       "2     RA - ALS RESCUE AMBULANCE  HOLLYWOOD STUDIO DISTRICT NC  \n",
       "3     RA - ALS RESCUE AMBULANCE           GREATER WILSHIRE NC  \n",
       "4  RA8XX - BLS RESCUE AMBULANCE           GREATER WILSHIRE NC  "
      ]
     },
     "execution_count": 15,
     "metadata": {},
     "output_type": "execute_result"
    }
   ],
   "source": [
    "lafd.head()"
   ]
  },
  {
   "cell_type": "markdown",
   "metadata": {},
   "source": [
    "Around 190,000 incidents received a response from another fire-station department that is outside our range of Neighborhood Councils. As a result, we will drop those rows."
   ]
  },
  {
   "cell_type": "code",
   "execution_count": 16,
   "metadata": {},
   "outputs": [
    {
     "data": {
      "text/plain": [
       "dispatch_sequence                  0\n",
       "dispatch_status                    0\n",
       "en_route_time_gmt                  0\n",
       "first_in_district                  0\n",
       "incident_creation_time_gmt         0\n",
       "on_scene_time_gmt                  0\n",
       "ppe_level                          0\n",
       "randomized_incident_number         0\n",
       "time_of_dispatch_gmt               0\n",
       "unit_type                          0\n",
       "nc_name                       189682\n",
       "dtype: int64"
      ]
     },
     "execution_count": 16,
     "metadata": {},
     "output_type": "execute_result"
    }
   ],
   "source": [
    "lafd.isnull().sum()"
   ]
  },
  {
   "cell_type": "code",
   "execution_count": 17,
   "metadata": {},
   "outputs": [
    {
     "data": {
      "text/plain": [
       "(3210798, 11)"
      ]
     },
     "execution_count": 17,
     "metadata": {},
     "output_type": "execute_result"
    }
   ],
   "source": [
    "lafd.dropna(axis=0, how='any', inplace=True)\n",
    "lafd.shape"
   ]
  },
  {
   "cell_type": "code",
   "execution_count": 18,
   "metadata": {},
   "outputs": [
    {
     "data": {
      "text/plain": [
       "0"
      ]
     },
     "execution_count": 18,
     "metadata": {},
     "output_type": "execute_result"
    }
   ],
   "source": [
    "lafd.isnull().sum().sum()"
   ]
  },
  {
   "cell_type": "code",
   "execution_count": 19,
   "metadata": {},
   "outputs": [],
   "source": [
    "lafd.to_csv('./data/clean_LAFD_Raw_Response_Metrics_all_4mill.csv')"
   ]
  },
  {
   "cell_type": "markdown",
   "metadata": {},
   "source": [
    "## LAFD Raw Response Metrics Data Exploration:\n",
    "\n",
    "In the beginning of the data exploration, we will focus on the LAFD Raw Response Metrics."
   ]
  },
  {
   "cell_type": "markdown",
   "metadata": {},
   "source": [
    "#### Total Number of Incidents reported: \n",
    "\n",
    "According to this data, Downtown LA receives the most amount of LAFD emergency calls based on the timeline of this data (2013 to 2017). This makes sense as the population density in DTLA is most likely higher than any other city region within the LA County. A lot of the Neighborhood Councils reported among the top 10 most LAFD emergency calls are from \"less-affluent\" neighborhoods in LA. \n",
    "On the other hand, the least amount of LAFD emergency calls are from the area of Bel-Air Beverly. Compared to DTLA, Bel-Air is a much more affluent neighborhood in LA and the population density is much smaller. Most of the lower emergency incident locations are in the San Fernando Valley area or North East LA area."
   ]
  },
  {
   "cell_type": "code",
   "execution_count": 20,
   "metadata": {},
   "outputs": [],
   "source": [
    "top_10_nc_response = lafd.groupby('nc_name')['first_in_district'].count().sort_values(ascending=False).head(10)\n",
    "bottom_10_nc_response = lafd.groupby('nc_name')['first_in_district'].count().sort_values().head(10).sort_values(ascending=False)"
   ]
  },
  {
   "cell_type": "code",
   "execution_count": 21,
   "metadata": {},
   "outputs": [
    {
     "data": {
      "text/plain": [
       "nc_name\n",
       "DOWNTOWN LOS ANGELES                                                                                225969\n",
       "NC WESTCHESTER/PLAYA                                                                                108638\n",
       "EMPOWERMENT CONGRESS SOUTHEAST AREA NDC                                                             101162\n",
       "UNITED NEIGHBORHOODS OF THE HISTORIC ARLINGTON HEIGHTS, WEST ADAMS, AND JEFFERSON PARK COMMUNITY     90980\n",
       "EMPOWERMENT CONGRESS CENTRAL AREA NDC                                                                89631\n",
       "VOICES OF 90037                                                                                      76733\n",
       "WESTLAKE SOUTH NC                                                                                    76566\n",
       "SHERMAN OAKS NC                                                                                      73571\n",
       "COMMUNITY AND NEIGHBORS FOR NINTH DISTRICT UNITY (CANNDU)                                            68627\n",
       "NORTH HOLLYWOOD NORTHEAST NC                                                                         63738\n",
       "Name: first_in_district, dtype: int64"
      ]
     },
     "execution_count": 21,
     "metadata": {},
     "output_type": "execute_result"
    }
   ],
   "source": [
    "top_10_nc_response"
   ]
  },
  {
   "cell_type": "code",
   "execution_count": 22,
   "metadata": {},
   "outputs": [
    {
     "data": {
      "text/plain": [
       "nc_name\n",
       "NORTHRIDGE SOUTH NC         20973\n",
       "SILVER LAKE NC              18724\n",
       "HARBOR GATEWAY SOUTH NC     18256\n",
       "NORTHWEST SAN PEDRO NC      15842\n",
       "PORTER RANCH NC             14408\n",
       "GRANADA HILLS NORTH NC      13457\n",
       "GLASSELL PARK NC            12923\n",
       "GREATER CYPRESS PARK NC     12837\n",
       "COASTAL SAN PEDRO NC        10202\n",
       "BEL AIR-BEVERLY CREST NC     2348\n",
       "Name: first_in_district, dtype: int64"
      ]
     },
     "execution_count": 22,
     "metadata": {},
     "output_type": "execute_result"
    }
   ],
   "source": [
    "bottom_10_nc_response"
   ]
  },
  {
   "cell_type": "code",
   "execution_count": 23,
   "metadata": {},
   "outputs": [
    {
     "data": {
      "image/png": "[encoded data removed]",
      "text/plain": [
       "<Figure size 1080x864 with 1 Axes>"
      ]
     },
     "metadata": {
      "needs_background": "light"
     },
     "output_type": "display_data"
    }
   ],
   "source": [
    "plt.figure(figsize=(15,12))\n",
    "\n",
    "plt.bar(top_10_nc_response.index, top_10_nc_response.values)\n",
    "plt.bar(bottom_10_nc_response.index, bottom_10_nc_response.values)\n",
    "\n",
    "\n",
    "plt.ylabel('# of incidents reported', fontsize=16)\n",
    "plt.title('10 N.C with most & least # of incidents', fontsize=24)\n",
    "plt.xticks(rotation=90);"
   ]
  },
  {
   "cell_type": "markdown",
   "metadata": {},
   "source": [
    "This plot displays the 10 fire-station departments with the most incidents responded to and the least incidents responded to. This obviously aligns with the Neighborhood Councils plot. Fire-Station 9 is the fire-station that is within the DTLA N.C"
   ]
  },
  {
   "cell_type": "code",
   "execution_count": 24,
   "metadata": {},
   "outputs": [
    {
     "data": {
      "image/png": "[encoded data removed]",
      "text/plain": [
       "<Figure size 1080x864 with 1 Axes>"
      ]
     },
     "metadata": {
      "needs_background": "light"
     },
     "output_type": "display_data"
    }
   ],
   "source": [
    "top_10_fs = lafd.groupby('first_in_district')['first_in_district'].count().sort_values(ascending=False).head(10)\n",
    "bottom_10_fs = lafd.groupby('first_in_district')['first_in_district'].count().sort_values().head(10).sort_values(ascending=False)\n",
    "\n",
    "plt.figure(figsize=(15,12))\n",
    "\n",
    "plt.bar(top_10_fs.index.astype('str'), top_10_fs.values)\n",
    "plt.bar(bottom_10_fs.index.astype('str'), bottom_10_fs.values)\n",
    "\n",
    "plt.xlabel('Fire-stations (departments)', fontsize=16)\n",
    "plt.ylabel('# of incidents responded', fontsize=16)\n",
    "plt.title('10 F.S with most & least # of incidents responded', fontsize=24);"
   ]
  },
  {
   "cell_type": "markdown",
   "metadata": {},
   "source": [
    "### All Stations Response Metric Data (Aggregate Averages):"
   ]
  },
  {
   "cell_type": "markdown",
   "metadata": {},
   "source": [
    "Remember what the LA Times reported, \"the Federal guidelines call for first responders to arrive on scene in under five minutes 90% of the time.\" Therefore, we will now take a look at the data and see if the LAFD meets the Federal guidelines for emergency calls in recent years.\n",
    "\n",
    "We will use the All Stations Response Metrics dataset that is provided by the lacity database website. This dataset includes the averages of the aggregate response time for the LAFD depending on the year, month, and fire-station department. Unfortunately the dataset does not provide us the Neighborhood Council name that the incident took place in. As a result, we will add the N.C names by matching it with the fire-station department (district) that is within the region of the respective N.C.\n",
    "\n",
    "* **Assumption:** *District means the CLOSEST fire-station department that responded to the call of the indicent. Therefore, the incident location SHOULD BE in the boundaries of the Neighborhood Council*"
   ]
  },
  {
   "cell_type": "code",
   "execution_count": 25,
   "metadata": {},
   "outputs": [
    {
     "data": {
      "text/plain": [
       "(5610, 9)"
      ]
     },
     "execution_count": 25,
     "metadata": {},
     "output_type": "execute_result"
    }
   ],
   "source": [
    "fs_list = list(reverse_dict.keys())\n",
    "\n",
    "response = pd.read_csv('./data/All_Stations_Response_Metrics.csv')\n",
    "response.shape"
   ]
  },
  {
   "cell_type": "markdown",
   "metadata": {},
   "source": [
    "We removed rows that contain districts (fire-station departments) that are NOT among the fire-station departments in any of the Neighborhood Councils. "
   ]
  },
  {
   "cell_type": "code",
   "execution_count": 26,
   "metadata": {},
   "outputs": [
    {
     "name": "stdout",
     "output_type": "stream",
     "text": [
      "(5225, 10)\n"
     ]
    }
   ],
   "source": [
    "response = response[response['DISTRICT'].isin(fs_list)]\n",
    "response['nc_name'] = response['DISTRICT'].map(reverse_dict)\n",
    "response.columns = [col.replace(' ', '_').lower() for col in response.columns]\n",
    "print(response.shape)"
   ]
  },
  {
   "cell_type": "code",
   "execution_count": 27,
   "metadata": {},
   "outputs": [
    {
     "data": {
      "text/html": [
       "<div>\n",
       "<style scoped>\n",
       "    .dataframe tbody tr th:only-of-type {\n",
       "        vertical-align: middle;\n",
       "    }\n",
       "\n",
       "    .dataframe tbody tr th {\n",
       "        vertical-align: top;\n",
       "    }\n",
       "\n",
       "    .dataframe thead th {\n",
       "        text-align: right;\n",
       "    }\n",
       "</style>\n",
       "<table border=\"1\" class=\"dataframe\">\n",
       "  <thead>\n",
       "    <tr style=\"text-align: right;\">\n",
       "      <th></th>\n",
       "      <th>year</th>\n",
       "      <th>district</th>\n",
       "      <th>month</th>\n",
       "      <th>average_lafd_turnout_time_in_district_-_non-ems</th>\n",
       "      <th>average_lafd_turnout_time_in_district_-_ems</th>\n",
       "      <th>average_lafd_travel_time__in_district_-_non-ems</th>\n",
       "      <th>average_lafd_travel_time_in_district_-_ems</th>\n",
       "      <th>incident_count_in_district_-_non-ems</th>\n",
       "      <th>incident_count_in_district_-_ems</th>\n",
       "      <th>nc_name</th>\n",
       "    </tr>\n",
       "  </thead>\n",
       "  <tbody>\n",
       "    <tr>\n",
       "      <th>0</th>\n",
       "      <td>2013</td>\n",
       "      <td>1</td>\n",
       "      <td>Jan</td>\n",
       "      <td>0:01:22</td>\n",
       "      <td>0:01:10</td>\n",
       "      <td>0:04:39</td>\n",
       "      <td>0:04:17</td>\n",
       "      <td>45</td>\n",
       "      <td>183</td>\n",
       "      <td>LINCOLN HEIGHTS NC</td>\n",
       "    </tr>\n",
       "    <tr>\n",
       "      <th>1</th>\n",
       "      <td>2013</td>\n",
       "      <td>1</td>\n",
       "      <td>Feb</td>\n",
       "      <td>0:01:19</td>\n",
       "      <td>0:01:12</td>\n",
       "      <td>0:03:47</td>\n",
       "      <td>0:04:16</td>\n",
       "      <td>38</td>\n",
       "      <td>165</td>\n",
       "      <td>LINCOLN HEIGHTS NC</td>\n",
       "    </tr>\n",
       "    <tr>\n",
       "      <th>2</th>\n",
       "      <td>2013</td>\n",
       "      <td>1</td>\n",
       "      <td>Mar</td>\n",
       "      <td>0:01:20</td>\n",
       "      <td>0:01:13</td>\n",
       "      <td>0:04:05</td>\n",
       "      <td>0:04:17</td>\n",
       "      <td>44</td>\n",
       "      <td>174</td>\n",
       "      <td>LINCOLN HEIGHTS NC</td>\n",
       "    </tr>\n",
       "    <tr>\n",
       "      <th>3</th>\n",
       "      <td>2013</td>\n",
       "      <td>1</td>\n",
       "      <td>Apr</td>\n",
       "      <td>0:01:18</td>\n",
       "      <td>0:01:10</td>\n",
       "      <td>0:04:59</td>\n",
       "      <td>0:04:03</td>\n",
       "      <td>45</td>\n",
       "      <td>173</td>\n",
       "      <td>LINCOLN HEIGHTS NC</td>\n",
       "    </tr>\n",
       "    <tr>\n",
       "      <th>4</th>\n",
       "      <td>2013</td>\n",
       "      <td>1</td>\n",
       "      <td>May</td>\n",
       "      <td>0:01:16</td>\n",
       "      <td>0:01:16</td>\n",
       "      <td>0:04:30</td>\n",
       "      <td>0:04:16</td>\n",
       "      <td>53</td>\n",
       "      <td>234</td>\n",
       "      <td>LINCOLN HEIGHTS NC</td>\n",
       "    </tr>\n",
       "  </tbody>\n",
       "</table>\n",
       "</div>"
      ],
      "text/plain": [
       "   year  district month average_lafd_turnout_time_in_district_-_non-ems  \\\n",
       "0  2013         1   Jan                                         0:01:22   \n",
       "1  2013         1   Feb                                         0:01:19   \n",
       "2  2013         1   Mar                                         0:01:20   \n",
       "3  2013         1   Apr                                         0:01:18   \n",
       "4  2013         1   May                                         0:01:16   \n",
       "\n",
       "  average_lafd_turnout_time_in_district_-_ems  \\\n",
       "0                                     0:01:10   \n",
       "1                                     0:01:12   \n",
       "2                                     0:01:13   \n",
       "3                                     0:01:10   \n",
       "4                                     0:01:16   \n",
       "\n",
       "  average_lafd_travel_time__in_district_-_non-ems  \\\n",
       "0                                         0:04:39   \n",
       "1                                         0:03:47   \n",
       "2                                         0:04:05   \n",
       "3                                         0:04:59   \n",
       "4                                         0:04:30   \n",
       "\n",
       "  average_lafd_travel_time_in_district_-_ems  \\\n",
       "0                                    0:04:17   \n",
       "1                                    0:04:16   \n",
       "2                                    0:04:17   \n",
       "3                                    0:04:03   \n",
       "4                                    0:04:16   \n",
       "\n",
       "   incident_count_in_district_-_non-ems  incident_count_in_district_-_ems  \\\n",
       "0                                    45                               183   \n",
       "1                                    38                               165   \n",
       "2                                    44                               174   \n",
       "3                                    45                               173   \n",
       "4                                    53                               234   \n",
       "\n",
       "              nc_name  \n",
       "0  LINCOLN HEIGHTS NC  \n",
       "1  LINCOLN HEIGHTS NC  \n",
       "2  LINCOLN HEIGHTS NC  \n",
       "3  LINCOLN HEIGHTS NC  \n",
       "4  LINCOLN HEIGHTS NC  "
      ]
     },
     "execution_count": 27,
     "metadata": {},
     "output_type": "execute_result"
    }
   ],
   "source": [
    "response.head()"
   ]
  },
  {
   "cell_type": "code",
   "execution_count": 28,
   "metadata": {},
   "outputs": [
    {
     "data": {
      "text/plain": [
       "0"
      ]
     },
     "execution_count": 28,
     "metadata": {},
     "output_type": "execute_result"
    }
   ],
   "source": [
    "response.isnull().sum().sum()"
   ]
  },
  {
   "cell_type": "markdown",
   "metadata": {},
   "source": [
    "**Turnout Time:**\n",
    "* The time interval between the activation of station alerting devices to when first responders put on their PPE3 and are aboard apparatus and en-route (wheels rolling). Both station alarm and en-route times are required to measure this for each unit that responds.\n",
    "\n",
    "**Travel Time:**\n",
    "* The time interval that begins when the first unit is en route to the incident and ends upon arrival of any of the units first on scene. This requires one valid en-route time and one valid on-scene time for the incident. Travel time can differ considerably amongst\n",
    "\n",
    "[Data Dictionary](http://www.lafd.org/sites/default/files/pdf_files/PublicFacingDoc_Process%20v%202.0_101514.pdf)"
   ]
  },
  {
   "cell_type": "markdown",
   "metadata": {},
   "source": [
    "We converted the time columns into readible seconds. (example: 70 = 1 minute 10 seconds)"
   ]
  },
  {
   "cell_type": "code",
   "execution_count": 29,
   "metadata": {},
   "outputs": [],
   "source": [
    "response['avg_travel_time_ems']= pd.to_datetime(response[\n",
    "    'average_lafd_travel_time_in_district_-_ems']).dt.minute * 60 + pd.to_datetime(response[\n",
    "    'average_lafd_travel_time_in_district_-_ems']).dt.second\n",
    "response['avg_travel_time_non_ems']= pd.to_datetime(response[\n",
    "    'average_lafd_travel_time__in_district_-_non-ems']).dt.minute * 60 + pd.to_datetime(response[\n",
    "    'average_lafd_travel_time__in_district_-_non-ems']).dt.second\n",
    "response['avg_turnout_time_non_ems']= pd.to_datetime(response[\n",
    "    'average_lafd_turnout_time_in_district_-_non-ems']).dt.minute * 60 + pd.to_datetime(response[\n",
    "    'average_lafd_turnout_time_in_district_-_non-ems']).dt.second\n",
    "response['avg_turnout_time_ems']= pd.to_datetime(response[\n",
    "    'average_lafd_turnout_time_in_district_-_ems']).dt.minute * 60 + pd.to_datetime(response[\n",
    "    'average_lafd_turnout_time_in_district_-_ems']).dt.second"
   ]
  },
  {
   "cell_type": "code",
   "execution_count": 30,
   "metadata": {},
   "outputs": [],
   "source": [
    "response.drop(columns=['average_lafd_travel_time_in_district_-_ems',\n",
    "                       'average_lafd_travel_time__in_district_-_non-ems',\n",
    "                       'average_lafd_turnout_time_in_district_-_non-ems',\n",
    "                       'average_lafd_turnout_time_in_district_-_ems'], inplace=True)"
   ]
  },
  {
   "cell_type": "code",
   "execution_count": 31,
   "metadata": {},
   "outputs": [
    {
     "data": {
      "text/html": [
       "<div>\n",
       "<style scoped>\n",
       "    .dataframe tbody tr th:only-of-type {\n",
       "        vertical-align: middle;\n",
       "    }\n",
       "\n",
       "    .dataframe tbody tr th {\n",
       "        vertical-align: top;\n",
       "    }\n",
       "\n",
       "    .dataframe thead th {\n",
       "        text-align: right;\n",
       "    }\n",
       "</style>\n",
       "<table border=\"1\" class=\"dataframe\">\n",
       "  <thead>\n",
       "    <tr style=\"text-align: right;\">\n",
       "      <th></th>\n",
       "      <th>year</th>\n",
       "      <th>district</th>\n",
       "      <th>month</th>\n",
       "      <th>incident_count_in_district_-_non-ems</th>\n",
       "      <th>incident_count_in_district_-_ems</th>\n",
       "      <th>nc_name</th>\n",
       "      <th>avg_travel_time_ems</th>\n",
       "      <th>avg_travel_time_non_ems</th>\n",
       "      <th>avg_turnout_time_non_ems</th>\n",
       "      <th>avg_turnout_time_ems</th>\n",
       "    </tr>\n",
       "  </thead>\n",
       "  <tbody>\n",
       "    <tr>\n",
       "      <th>0</th>\n",
       "      <td>2013</td>\n",
       "      <td>1</td>\n",
       "      <td>Jan</td>\n",
       "      <td>45</td>\n",
       "      <td>183</td>\n",
       "      <td>LINCOLN HEIGHTS NC</td>\n",
       "      <td>257</td>\n",
       "      <td>279</td>\n",
       "      <td>82</td>\n",
       "      <td>70</td>\n",
       "    </tr>\n",
       "    <tr>\n",
       "      <th>1</th>\n",
       "      <td>2013</td>\n",
       "      <td>1</td>\n",
       "      <td>Feb</td>\n",
       "      <td>38</td>\n",
       "      <td>165</td>\n",
       "      <td>LINCOLN HEIGHTS NC</td>\n",
       "      <td>256</td>\n",
       "      <td>227</td>\n",
       "      <td>79</td>\n",
       "      <td>72</td>\n",
       "    </tr>\n",
       "    <tr>\n",
       "      <th>2</th>\n",
       "      <td>2013</td>\n",
       "      <td>1</td>\n",
       "      <td>Mar</td>\n",
       "      <td>44</td>\n",
       "      <td>174</td>\n",
       "      <td>LINCOLN HEIGHTS NC</td>\n",
       "      <td>257</td>\n",
       "      <td>245</td>\n",
       "      <td>80</td>\n",
       "      <td>73</td>\n",
       "    </tr>\n",
       "    <tr>\n",
       "      <th>3</th>\n",
       "      <td>2013</td>\n",
       "      <td>1</td>\n",
       "      <td>Apr</td>\n",
       "      <td>45</td>\n",
       "      <td>173</td>\n",
       "      <td>LINCOLN HEIGHTS NC</td>\n",
       "      <td>243</td>\n",
       "      <td>299</td>\n",
       "      <td>78</td>\n",
       "      <td>70</td>\n",
       "    </tr>\n",
       "    <tr>\n",
       "      <th>4</th>\n",
       "      <td>2013</td>\n",
       "      <td>1</td>\n",
       "      <td>May</td>\n",
       "      <td>53</td>\n",
       "      <td>234</td>\n",
       "      <td>LINCOLN HEIGHTS NC</td>\n",
       "      <td>256</td>\n",
       "      <td>270</td>\n",
       "      <td>76</td>\n",
       "      <td>76</td>\n",
       "    </tr>\n",
       "  </tbody>\n",
       "</table>\n",
       "</div>"
      ],
      "text/plain": [
       "   year  district month  incident_count_in_district_-_non-ems  \\\n",
       "0  2013         1   Jan                                    45   \n",
       "1  2013         1   Feb                                    38   \n",
       "2  2013         1   Mar                                    44   \n",
       "3  2013         1   Apr                                    45   \n",
       "4  2013         1   May                                    53   \n",
       "\n",
       "   incident_count_in_district_-_ems             nc_name  avg_travel_time_ems  \\\n",
       "0                               183  LINCOLN HEIGHTS NC                  257   \n",
       "1                               165  LINCOLN HEIGHTS NC                  256   \n",
       "2                               174  LINCOLN HEIGHTS NC                  257   \n",
       "3                               173  LINCOLN HEIGHTS NC                  243   \n",
       "4                               234  LINCOLN HEIGHTS NC                  256   \n",
       "\n",
       "   avg_travel_time_non_ems  avg_turnout_time_non_ems  avg_turnout_time_ems  \n",
       "0                      279                        82                    70  \n",
       "1                      227                        79                    72  \n",
       "2                      245                        80                    73  \n",
       "3                      299                        78                    70  \n",
       "4                      270                        76                    76  "
      ]
     },
     "execution_count": 31,
     "metadata": {},
     "output_type": "execute_result"
    }
   ],
   "source": [
    "response.head()"
   ]
  },
  {
   "cell_type": "markdown",
   "metadata": {},
   "source": [
    "#### **Average wait time for LAFD arrival:**"
   ]
  },
  {
   "cell_type": "code",
   "execution_count": 32,
   "metadata": {},
   "outputs": [],
   "source": [
    "def response_check(df, column):\n",
    "    five_min_less = df[df[column] < 300]\n",
    "    \n",
    "    pct_five_min_less = (five_min_less[column].count() / df[column].count()) * 100\n",
    "    print(f'{column} responded in less than 5 mins:', '{:.2f}'.format(pct_five_min_less), '%')"
   ]
  },
  {
   "cell_type": "code",
   "execution_count": 33,
   "metadata": {},
   "outputs": [
    {
     "name": "stdout",
     "output_type": "stream",
     "text": [
      "avg_travel_time_ems responded in less than 5 mins: 88.54 %\n",
      "avg_travel_time_non_ems responded in less than 5 mins: 81.89 %\n"
     ]
    }
   ],
   "source": [
    "response_check(response, 'avg_travel_time_ems')\n",
    "response_check(response, 'avg_travel_time_non_ems')"
   ]
  },
  {
   "cell_type": "markdown",
   "metadata": {},
   "source": [
    "#### **Average wait time for LAFD arrival by year:**"
   ]
  },
  {
   "cell_type": "markdown",
   "metadata": {},
   "source": [
    "After the 2008 scandal, the LAFD and Mayor Eric Garcetti both made a pledge to speed up Fire Department responses to emergencies in order to meet Federal guidelines consistently. However, the result states otherwise. The outcome is somewhat surprising and also quite unfortunate. Based on the plots below, we can see that the average travel time by LAFD first-unit respondents has increased from the year of 2013 to 2017. The average travel time for non-EMS related incidents in the year of 2015 has decreased a bit from the year before; however, the very next year it increased. On the other hand, the average travel time for EMS-related incidents has consistently increased throughout the years. From 2013 the average travel time increased by nearly half a minute in 2017, this is a 10% increase in time. \n",
    "\n",
    "At this point, we should consider looking into the reasons why response times are increasing instead of decreasing. \n",
    "* Perhaps the distance in some parts of the Los Angeles County make it extremely difficult for fire-fighters to arrive at the location quicker? \n",
    "* Perhaps there is some inefficiency when it comes to allocation of personnel and equipment? \n",
    "* Perhaps the closest fire-station to the incident location is in another call?\n",
    "\n",
    "\n",
    "Both the average travel time for EMS and NON-EMS fall short of the Federal guidelines of meeting emergency calls in under 5 minutes 90 percent of the times. According to the data-dictionary, all the data are emergency related calls. EMS category in this case, includes incident types that require minimum personal protective equipments (PPE) and a turnout time of 60 seconds. The majority of the incidents reported in this dataset are medical in nature and as a result do not require protective equipments for the fire-fighters. The NON-EMS category are incidents that require full PPE and a turnout time of 80 seconds. Majority of these incidents require fire tools and equipments. \n",
    "\n",
    "Based on the following information, it makes sense that the average travel time for NON-EMS calls are longer in nature; as it requires more preparation. However for that very reason, we must find ways to eliminate the processing time for response times, especially the NON-EMS related calls as those are more of a priority in many cases. "
   ]
  },
  {
   "cell_type": "code",
   "execution_count": 34,
   "metadata": {},
   "outputs": [],
   "source": [
    "response.loc[response[response.month == 'Overall']['month'].index, 'month'] = 'Overall 2013'\n",
    "\n",
    "# Overall is Overall for year 2013"
   ]
  },
  {
   "cell_type": "code",
   "execution_count": 35,
   "metadata": {},
   "outputs": [
    {
     "data": {
      "image/png": "[encoded data removed]",
      "text/plain": [
       "<Figure size 576x432 with 1 Axes>"
      ]
     },
     "metadata": {
      "needs_background": "light"
     },
     "output_type": "display_data"
    }
   ],
   "source": [
    "plt.figure(figsize=(8,6))\n",
    "plt.bar(response.groupby(['year'])[['avg_travel_time_non_ems']].mean().sort_values(by='year').index, \n",
    "        response.groupby(['year'])[['avg_travel_time_non_ems']].mean().sort_values(by='year')['avg_travel_time_non_ems'])\n",
    "plt.ylim(240,300)\n",
    "plt.ylabel('Avg time by seconds (4 - 5mins)', fontsize=16)\n",
    "plt.yticks(fontsize=14)\n",
    "plt.title('Avg Travel Time (non-EMS) by year', fontsize=22)\n",
    "plt.xticks(fontsize=14);"
   ]
  },
  {
   "cell_type": "code",
   "execution_count": 36,
   "metadata": {},
   "outputs": [
    {
     "data": {
      "image/png": "[encoded data removed]",
      "text/plain": [
       "<Figure size 576x432 with 1 Axes>"
      ]
     },
     "metadata": {
      "needs_background": "light"
     },
     "output_type": "display_data"
    }
   ],
   "source": [
    "plt.figure(figsize=(8,6))\n",
    "plt.bar(response.groupby(['year'])[['avg_travel_time_ems']].mean().sort_values(by='year').index, \n",
    "        response.groupby(['year'])[['avg_travel_time_ems']].mean().sort_values(by='year')['avg_travel_time_ems'])\n",
    "plt.ylim(240,300)\n",
    "plt.ylabel('Avg time by seconds (4 - 5mins)', fontsize=16)\n",
    "plt.yticks(fontsize=14)\n",
    "plt.title('Avg Travel Time (EMS) by year', fontsize=22)\n",
    "plt.xticks(fontsize=14);"
   ]
  },
  {
   "cell_type": "markdown",
   "metadata": {},
   "source": [
    "#### **Average wait time for LAFD arrival by season:**"
   ]
  },
  {
   "cell_type": "code",
   "execution_count": 37,
   "metadata": {},
   "outputs": [],
   "source": [
    "winter = ['Dec', 'Jan', 'Feb']\n",
    "spring = ['Mar', 'Apr', 'May']\n",
    "summer = ['Jun', 'Jul', 'Aug']\n",
    "fall = ['Sep', 'Oct', 'Nov']\n",
    "\n",
    "seasons = []\n",
    "\n",
    "for month in response['month']:\n",
    "    if month in winter:\n",
    "        seasons.append('winter')\n",
    "    elif month in spring:\n",
    "        seasons.append('spring')\n",
    "    elif month in summer:\n",
    "        seasons.append('summer')\n",
    "    elif month in fall:\n",
    "        seasons.append('fall')\n",
    "    else:\n",
    "        seasons.append(month)\n",
    "        \n",
    "response.insert(3, 'season', seasons)"
   ]
  },
  {
   "cell_type": "code",
   "execution_count": 38,
   "metadata": {},
   "outputs": [
    {
     "data": {
      "text/html": [
       "<div>\n",
       "<style scoped>\n",
       "    .dataframe tbody tr th:only-of-type {\n",
       "        vertical-align: middle;\n",
       "    }\n",
       "\n",
       "    .dataframe tbody tr th {\n",
       "        vertical-align: top;\n",
       "    }\n",
       "\n",
       "    .dataframe thead th {\n",
       "        text-align: right;\n",
       "    }\n",
       "</style>\n",
       "<table border=\"1\" class=\"dataframe\">\n",
       "  <thead>\n",
       "    <tr style=\"text-align: right;\">\n",
       "      <th></th>\n",
       "      <th>year</th>\n",
       "      <th>district</th>\n",
       "      <th>month</th>\n",
       "      <th>season</th>\n",
       "      <th>incident_count_in_district_-_non-ems</th>\n",
       "      <th>incident_count_in_district_-_ems</th>\n",
       "      <th>nc_name</th>\n",
       "      <th>avg_travel_time_ems</th>\n",
       "      <th>avg_travel_time_non_ems</th>\n",
       "      <th>avg_turnout_time_non_ems</th>\n",
       "      <th>avg_turnout_time_ems</th>\n",
       "    </tr>\n",
       "  </thead>\n",
       "  <tbody>\n",
       "    <tr>\n",
       "      <th>0</th>\n",
       "      <td>2013</td>\n",
       "      <td>1</td>\n",
       "      <td>Jan</td>\n",
       "      <td>winter</td>\n",
       "      <td>45</td>\n",
       "      <td>183</td>\n",
       "      <td>LINCOLN HEIGHTS NC</td>\n",
       "      <td>257</td>\n",
       "      <td>279</td>\n",
       "      <td>82</td>\n",
       "      <td>70</td>\n",
       "    </tr>\n",
       "    <tr>\n",
       "      <th>1</th>\n",
       "      <td>2013</td>\n",
       "      <td>1</td>\n",
       "      <td>Feb</td>\n",
       "      <td>winter</td>\n",
       "      <td>38</td>\n",
       "      <td>165</td>\n",
       "      <td>LINCOLN HEIGHTS NC</td>\n",
       "      <td>256</td>\n",
       "      <td>227</td>\n",
       "      <td>79</td>\n",
       "      <td>72</td>\n",
       "    </tr>\n",
       "  </tbody>\n",
       "</table>\n",
       "</div>"
      ],
      "text/plain": [
       "   year  district month  season  incident_count_in_district_-_non-ems  \\\n",
       "0  2013         1   Jan  winter                                    45   \n",
       "1  2013         1   Feb  winter                                    38   \n",
       "\n",
       "   incident_count_in_district_-_ems             nc_name  avg_travel_time_ems  \\\n",
       "0                               183  LINCOLN HEIGHTS NC                  257   \n",
       "1                               165  LINCOLN HEIGHTS NC                  256   \n",
       "\n",
       "   avg_travel_time_non_ems  avg_turnout_time_non_ems  avg_turnout_time_ems  \n",
       "0                      279                        82                    70  \n",
       "1                      227                        79                    72  "
      ]
     },
     "execution_count": 38,
     "metadata": {},
     "output_type": "execute_result"
    }
   ],
   "source": [
    "response.head(2)"
   ]
  },
  {
   "cell_type": "code",
   "execution_count": 39,
   "metadata": {},
   "outputs": [
    {
     "data": {
      "image/png": "[encoded data removed]",
      "text/plain": [
       "<Figure size 576x432 with 1 Axes>"
      ]
     },
     "metadata": {
      "needs_background": "light"
     },
     "output_type": "display_data"
    }
   ],
   "source": [
    "plt.figure(figsize=(8,6))\n",
    "plt.bar(response.groupby(['season'])[['avg_travel_time_ems']].mean().tail(4).index, \n",
    "        response.groupby(['season'])[['avg_travel_time_ems']].mean().tail(4)['avg_travel_time_ems'])\n",
    "plt.ylim(240,300)\n",
    "plt.ylabel('Avg time by seconds (4 - 5mins)', fontsize=16)\n",
    "plt.yticks(fontsize=14)\n",
    "plt.title('Avg Travel Time (EMS) by season', fontsize=22)\n",
    "plt.xticks(fontsize=14);"
   ]
  },
  {
   "cell_type": "code",
   "execution_count": 40,
   "metadata": {},
   "outputs": [],
   "source": [
    "response.to_csv('./data/new_all_stations_response_metrics.csv')"
   ]
  }
 ],
 "metadata": {
  "kernelspec": {
   "display_name": "Python 3",
   "language": "python",
   "name": "python3"
  },
  "language_info": {
   "codemirror_mode": {
    "name": "ipython",
    "version": 3
   },
   "file_extension": ".py",
   "mimetype": "text/x-python",
   "name": "python",
   "nbconvert_exporter": "python",
   "pygments_lexer": "ipython3",
   "version": "3.6.8"
  }
 },
 "nbformat": 4,
 "nbformat_minor": 2
}
